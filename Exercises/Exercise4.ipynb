{
 "cells": [
  {
   "cell_type": "markdown",
   "source": [
    "# 1. Dice rolls (*)\r\n",
    "Simulate 10 dice rolls and append the rolls to a list or use list comprehension.\r\n",
    "\r\n",
    "  a)   sort the list in ascending order (*)\r\n",
    "\r\n",
    "  b)   sort the list in descending order (*)\r\n",
    "\r\n",
    "  c)   find the maximum and minimum value in the list (*)"
   ],
   "metadata": {}
  },
  {
   "cell_type": "code",
   "execution_count": 4,
   "source": [
    "#a \r\n",
    "import random as rnd\r\n",
    "list1=[rnd.randint(1,6) for i in range(10)]\r\n",
    "list1.sort()\r\n",
    "print(list1)\r\n"
   ],
   "outputs": [
    {
     "output_type": "stream",
     "name": "stdout",
     "text": [
      "[1, 2, 3, 3, 3, 5, 5, 5, 6, 6]\n"
     ]
    }
   ],
   "metadata": {}
  },
  {
   "cell_type": "code",
   "execution_count": 5,
   "source": [
    "#b\r\n",
    "import random as rnd\r\n",
    "list1=[rnd.randint(1,6) for i in range(10)]\r\n",
    "list1.sort(reverse=True)\r\n",
    "print(list1)"
   ],
   "outputs": [
    {
     "output_type": "stream",
     "name": "stdout",
     "text": [
      "[6, 6, 6, 5, 2, 2, 2, 2, 1, 1]\n"
     ]
    }
   ],
   "metadata": {}
  },
  {
   "cell_type": "code",
   "execution_count": 21,
   "source": [
    "#c\r\n",
    "import random as rnd\r\n",
    "list1=[rnd.randint(1,6) for i in range(10)]\r\n",
    "a=min(list1)\r\n",
    "b=max(list1)\r\n",
    "print(f\"Minimun is {a} and Maximun is {b}\")"
   ],
   "outputs": [
    {
     "output_type": "stream",
     "name": "stdout",
     "text": [
      "Minimun is 1 and Maximun is 6\n"
     ]
    }
   ],
   "metadata": {}
  },
  {
   "cell_type": "markdown",
   "source": [
    "# 2. Food menu (*)\r\n",
    "Create a:\r\n",
    "\r\n",
    "  a)   list with the following elements: \"vegetarisk lasagne\", \"spaghetti\", \"fisk\", \"grönsakssoppa\", \"pannkakor\". (*)\r\n",
    "\r\n",
    "  b)   list with the weekdays (*)\r\n",
    "\r\n",
    "  c)   create a food menu with each day corresponding to each food item and print it out. (*)\r\n",
    "\r\n"
   ],
   "metadata": {}
  },
  {
   "cell_type": "code",
   "execution_count": 63,
   "source": [
    "food=[\"vegetarisk lasagne\", \"spaghetti\", \"fisk\", \"grönsakssoppa\", \"pannkakor\"]\r\n",
    "weekdays=[\"manday\",\"tuesday\",\"wednesday\",\"thursday\",\"friday\"]\r\n",
    "\r\n",
    "print(f\"{weekdays[0]}: {food[0]}\")\r\n",
    "print(f\"{weekdays[1]}: {food[1]}\")\r\n",
    "print(f\"{weekdays[2]}: {food[2]}\")\r\n",
    "print(f\"{weekdays[3]}: {food[3]}\")\r\n",
    "print(f\"{weekdays[4]}: {food[4]}\")"
   ],
   "outputs": [
    {
     "output_type": "stream",
     "name": "stdout",
     "text": [
      "manday: vegetarisk lasagne\n",
      "tuesday: spaghetti\n",
      "wednesday: fisk\n",
      "thursday: grönsakssoppa\n",
      "friday: pannkakor\n"
     ]
    }
   ],
   "metadata": {}
  },
  {
   "cell_type": "markdown",
   "source": [
    "# 3. Squares (*)\r\n",
    "  a)   Use list comprehension to create a list of squares from -10 to 10 (*)\r\n",
    "\r\n",
    "  a)   Plot this list using matplotlib. (*)"
   ],
   "metadata": {}
  },
  {
   "cell_type": "markdown",
   "source": [
    "# 4. Chessboard (**)\r\n",
    "  a)   Create this list using list comprehension: (*)\r\n",
    "\r\n",
    "['A1', 'B1', 'C1', 'D1', 'E1', 'F1', 'G1', 'H1']\r\n",
    "  \r\n",
    "b)   Create a 2D list to hold the coordinates in a chessboard. (**)"
   ],
   "metadata": {}
  },
  {
   "cell_type": "markdown",
   "source": [
    "# 5. Dice rolls convergence (**)\r\n",
    "Simulate:\r\n",
    "\r\n",
    "  a)   100 dice rolls and count the number of outcome six. (*)\r\n",
    "\r\n",
    "  b)   10, 100, 1000, 10000, 100000, 1000000 dice rolls. Count the number of outcome six in each simulation and store it in a list. Compute the probability of outcome six in each simulation. (**)\r\n",
    "\r\n",
    "  c)   Use matplotlib to plot this list. (*)"
   ],
   "metadata": {}
  }
 ],
 "metadata": {
  "orig_nbformat": 4,
  "language_info": {
   "name": "python",
   "version": "3.9.6",
   "mimetype": "text/x-python",
   "codemirror_mode": {
    "name": "ipython",
    "version": 3
   },
   "pygments_lexer": "ipython3",
   "nbconvert_exporter": "python",
   "file_extension": ".py"
  },
  "kernelspec": {
   "name": "python3",
   "display_name": "Python 3.9.6 64-bit ('python-programming-Kun-Han-lwkoREgH': pipenv)"
  },
  "interpreter": {
   "hash": "7565875fc860841d1ac58932c3399b2f9de3300a7321d66f878423c047ece803"
  }
 },
 "nbformat": 4,
 "nbformat_minor": 2
}
{
 "cells": [
  {
   "cell_type": "markdown",
   "source": [
    "## 1. Find errors (*)\r\n",
    "Find the errors in this code to compute the distance between the point $(x,y)$ and the origin in a cartesian coordinate system.\r\n",
    "\r\n",
    "<code>impor numpy as np\r\n",
    "\r\n",
    "def distance(x,y)\r\n",
    "    reurn np.sqrt(x+y)\r\n",
    "\r\n",
    "print(distance([0.5, 0.5]))</code>"
   ],
   "metadata": {}
  },
  {
   "cell_type": "code",
   "execution_count": 8,
   "source": [
    "import numpy as np\r\n",
    "\r\n",
    "def distance(x,y):\r\n",
    "    return np.sqrt(x**2+y**2)\r\n",
    "\r\n",
    "print(distance(0.5, 0.5))"
   ],
   "outputs": [
    {
     "output_type": "stream",
     "name": "stdout",
     "text": [
      "0.7071067811865476\n"
     ]
    }
   ],
   "metadata": {}
  },
  {
   "cell_type": "markdown",
   "source": [
    "## 2. Find errors (*)\r\n",
    "Find the errors in this code. Just change the function, don't touch the test program.\r\n",
    "\r\n",
    "<code>def is_fourdigit(number):\r\n",
    "\r\n",
    "    if number//1000 < 10\r\n",
    "\r\n",
    "        return true\r\n",
    "\r\n",
    "    else \r\n",
    "\r\n",
    "        return false\r\n",
    "\r\n",
    "\r\n",
    "- test program\r\n",
    "\r\n",
    "test_numbers = [231, 3124, -4124, -1000,-999, 1001, 10000, -10000, 999]\r\n",
    "\r\n",
    "for number in test_numbers:\r\n",
    "\r\n",
    "    if is_fourdigit(number):\r\n",
    "\r\n",
    "        print(f\"{number} is four-digit\")\r\n",
    "\r\n",
    "    else:\r\n",
    "\r\n",
    "        print(f\"{number} is not four-digit\")<code>\r\n",
    "        \r\n"
   ],
   "metadata": {}
  },
  {
   "cell_type": "code",
   "execution_count": 32,
   "source": [
    "def is_fourdigit(number):\r\n",
    "    if 1 <= abs(number//1000) < 10:\r\n",
    "        return True\r\n",
    "    else:\r\n",
    "        return False\r\n",
    "\r\n",
    "# test program\r\n",
    "test_numbers = [231, 3124, -4124, -1000,-999, 1001, 10000, -10000, 999]\r\n",
    "\r\n",
    "for number in test_numbers:\r\n",
    "    if is_fourdigit(number):\r\n",
    "        print(f\"{number} is four-digit\")\r\n",
    "    else:\r\n",
    "        print(f\"{number} is not four-digit\")\r\n"
   ],
   "outputs": [
    {
     "output_type": "stream",
     "name": "stdout",
     "text": [
      "231 is not four-digit\n",
      "3124 is four-digit\n",
      "-4124 is four-digit\n",
      "-1000 is four-digit\n",
      "-999 is four-digit\n",
      "1001 is four-digit\n",
      "10000 is not four-digit\n",
      "-10000 is not four-digit\n",
      "999 is not four-digit\n"
     ]
    }
   ],
   "metadata": {}
  },
  {
   "cell_type": "markdown",
   "source": [
    "## 3. Tram (*)\r\n",
    "Kokchun is a clumpsy computer user that doesn't take trams too often. Write a program to prompt the user for:\r\n",
    "\r\n",
    "number of times he/she wants to take tram in one month\r\n",
    "cost for one ticket\r\n",
    "cost for monthly card\r\n",
    "The program should calculate if it's worth for him to buy monthly card or not. Make the program user friendly with clear error messages and ask again in case of input errors.\r\n",
    "\r\n"
   ],
   "metadata": {}
  },
  {
   "cell_type": "code",
   "execution_count": 31,
   "source": [
    "while True:\r\n",
    "\r\n",
    "    times = input(\"How many times do you take tram in one month?\")\r\n",
    "\r\n",
    "    try: \r\n",
    "        times = int(times)\r\n",
    "        if not 0<=times<=100: \r\n",
    "            raise ValueError(\"Times must between 0 and 100!\") \r\n",
    "        print(f\"You takes {times} times Tram per month\")\r\n",
    "        break\r\n",
    "    except ValueError as err:\r\n",
    "        print(err)\r\n",
    "\r\n",
    "    \r\n",
    "\r\n",
    "while True:\r\n",
    "    \r\n",
    "    ticket = input(\"How much does one ticket cost?\")\r\n",
    "\r\n",
    "    try: \r\n",
    "        ticket = int(ticket)\r\n",
    "        if not 0<=ticket<=100: \r\n",
    "           raise ValueError(\"ticket cost must between 0 and 100!\") \r\n",
    "        print(f\"It costs {ticket} kr for each ticket\")\r\n",
    "        break\r\n",
    "    except ValueError as err:\r\n",
    "        print(err)\r\n",
    "\r\n",
    "while True:\r\n",
    "    \r\n",
    "    month_card = input(\"How much does one month card cost?\")\r\n",
    "    \r\n",
    "    try: \r\n",
    "        month_card = int(month_card)\r\n",
    "        if not 0<=month_card<=2000: \r\n",
    "           raise ValueError(\"ticket cost must between 0 and 2000!\") \r\n",
    "        print(f\"It costs {month_card} kr for a month card\")\r\n",
    "        break\r\n",
    "    except ValueError as err:\r\n",
    "        print(err)\r\n",
    "\r\n",
    "    \r\n",
    "print(f\"It cost you {times*ticket} kr for taking a Tram evert month!\")\r\n",
    "\r\n",
    "\r\n",
    "if month_card >= ticket*times:\r\n",
    "        \r\n",
    "    print(\"It's NOT worth to buy a monthly card\")\r\n",
    "else:\r\n",
    "    print(\"It's worth to buy a monthly card\")\r\n"
   ],
   "outputs": [
    {
     "output_type": "stream",
     "name": "stdout",
     "text": [
      "You takes 44 times Tram per month\n",
      "It costs 30 kr for each ticket\n",
      "It costs 800 kr for a month card\n",
      "It cost you 1320 kr for taking a Tram evert month!\n",
      "It's worth to buy a monthly card\n"
     ]
    }
   ],
   "metadata": {}
  }
 ],
 "metadata": {
  "orig_nbformat": 4,
  "language_info": {
   "name": "python",
   "version": "3.9.6",
   "mimetype": "text/x-python",
   "codemirror_mode": {
    "name": "ipython",
    "version": 3
   },
   "pygments_lexer": "ipython3",
   "nbconvert_exporter": "python",
   "file_extension": ".py"
  },
  "kernelspec": {
   "name": "python3",
   "display_name": "Python 3.9.6 64-bit ('python-programming-Kun-Han-lwkoREgH': virtualenv)"
  },
  "interpreter": {
   "hash": "7565875fc860841d1ac58932c3399b2f9de3300a7321d66f878423c047ece803"
  }
 },
 "nbformat": 4,
 "nbformat_minor": 2
}
{
 "cells": [
  {
   "cell_type": "markdown",
   "source": [
    "# 1"
   ],
   "metadata": {}
  },
  {
   "cell_type": "code",
   "execution_count": 6,
   "source": [
    "import random as rnd\r\n",
    "\r\n",
    "times1 = 0\r\n",
    "times2 = 0\r\n",
    "times3 = 0\r\n",
    "times4 = 0\r\n",
    "times5 = 0\r\n",
    "times6 = 0\r\n",
    "\r\n",
    "list = [rnd.randint(1,6) for i in range(1000000)]\r\n",
    "for j in list:\r\n",
    "    if j == 1:\r\n",
    "        times1+=1\r\n",
    "    if j == 2:\r\n",
    "        times2+=1\r\n",
    "    if j == 3:\r\n",
    "        times3+=1\r\n",
    "    if j == 4:\r\n",
    "        times4+=1\r\n",
    "    if j == 5:\r\n",
    "        times5+=1\r\n",
    "    if j == 6:\r\n",
    "        times6+=1\r\n",
    "\r\n",
    "print(f\"Times for roll 1 is :{times1}\")\r\n",
    "print(f\"Times for roll 2 is :{times2}\")\r\n",
    "print(f\"Times for roll 3 is :{times3}\")\r\n",
    "print(f\"Times for roll 4 is :{times4}\")\r\n",
    "print(f\"Times for roll 5 is :{times5}\")\r\n",
    "print(f\"Times for roll 6 is :{times6}\")\r\n",
    "\r\n"
   ],
   "outputs": [
    {
     "output_type": "stream",
     "name": "stdout",
     "text": [
      "Times for roll 1 is :165902\n",
      "Times for roll 2 is :166519\n",
      "Times for roll 3 is :166333\n",
      "Times for roll 4 is :166393\n",
      "Times for roll 5 is :167575\n",
      "Times for roll 6 is :167278\n"
     ]
    }
   ],
   "metadata": {}
  },
  {
   "cell_type": "markdown",
   "source": [
    "# 2"
   ],
   "metadata": {}
  },
  {
   "cell_type": "code",
   "execution_count": 42,
   "source": [
    "from math import pi\r\n",
    "\r\n",
    "def shpere_volume(r):\r\n",
    "    return 4/3*pi*r**3\r\n",
    "    \r\n",
    "r = float(input(\"input r\"))\r\n",
    "\r\n",
    "try:\r\n",
    "    if not isinstance(r, (float, int)):\r\n",
    "        raise ValueError (\"R must be a float\")\r\n",
    "except ValueError as err:\r\n",
    "    print(err)\r\n",
    "\r\n",
    "print(f\"shpere_volume is {shpere_volume(r)}\")\r\n",
    "\r\n"
   ],
   "outputs": [
    {
     "output_type": "stream",
     "name": "stdout",
     "text": [
      "shpere_volume is 4.1887902047863905\n"
     ]
    }
   ],
   "metadata": {}
  },
  {
   "cell_type": "code",
   "execution_count": null,
   "source": [],
   "outputs": [],
   "metadata": {}
  }
 ],
 "metadata": {
  "orig_nbformat": 4,
  "language_info": {
   "name": "python",
   "version": "3.9.6",
   "mimetype": "text/x-python",
   "codemirror_mode": {
    "name": "ipython",
    "version": 3
   },
   "pygments_lexer": "ipython3",
   "nbconvert_exporter": "python",
   "file_extension": ".py"
  },
  "kernelspec": {
   "name": "python3",
   "display_name": "Python 3.9.6 64-bit ('python-programming-Kun-Han-lwkoREgH': virtualenv)"
  },
  "interpreter": {
   "hash": "7565875fc860841d1ac58932c3399b2f9de3300a7321d66f878423c047ece803"
  }
 },
 "nbformat": 4,
 "nbformat_minor": 2
}
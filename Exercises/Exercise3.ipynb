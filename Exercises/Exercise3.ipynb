{
 "cells": [
  {
   "cell_type": "markdown",
   "source": [
    "\r\n",
    "# 1. Count numbers (*)\r\n",
    "Use a for statement to count from:\r\n",
    "\r\n",
    "  a)   -10 to 10 with one increment (*)\r\n",
    "\r\n",
    "  b)   -10 to 10 with two increment (*)"
   ],
   "metadata": {}
  },
  {
   "cell_type": "code",
   "execution_count": 2,
   "source": [
    "for i in range(-10,11):\r\n",
    "    print(i, end=\" \")"
   ],
   "outputs": [
    {
     "output_type": "stream",
     "name": "stdout",
     "text": [
      "-10 -9 -8 -7 -6 -5 -4 -3 -2 -1 0 1 2 3 4 5 6 7 8 9 10 "
     ]
    }
   ],
   "metadata": {}
  },
  {
   "cell_type": "code",
   "execution_count": 7,
   "source": [
    "for i in range(-10,11,2):\r\n",
    "    print(i, end=\" \")"
   ],
   "outputs": [
    {
     "output_type": "stream",
     "name": "stdout",
     "text": [
      "-10 -8 -6 -4 -2 0 2 4 6 8 10 "
     ]
    }
   ],
   "metadata": {}
  },
  {
   "cell_type": "markdown",
   "source": [
    "# 2. Arithmetic sum (*)\r\n",
    "Use a for statement to compute the following sums:\r\n",
    "\r\n",
    "  a)   $\\text{sum} = 1 + 2 + \\ldots + 99+ 100$ (*)\r\n",
    "\r\n",
    "  b)   $\\text{sum} = 1 + 3 + 5 + \\ldots + 97 + 99$ (*)"
   ],
   "metadata": {}
  },
  {
   "cell_type": "code",
   "execution_count": 108,
   "source": [
    "summa=0\r\n",
    "\r\n",
    "for i in range(0,101):\r\n",
    "    \r\n",
    "    summa+=i\r\n",
    "    \r\n",
    "    print(f\"{i}\", end = \"\")\r\n",
    "    if i != 100:\r\n",
    "        print(\"+\", end=\"\")\r\n",
    "\r\n",
    "    if i == 100:\r\n",
    "        print(f\"={summa}\", end=\"\")\r\n",
    "        \r\n"
   ],
   "outputs": [
    {
     "output_type": "stream",
     "name": "stdout",
     "text": [
      "0+1+2+3+4+5+6+7+8+9+10+11+12+13+14+15+16+17+18+19+20+21+22+23+24+25+26+27+28+29+30+31+32+33+34+35+36+37+38+39+40+41+42+43+44+45+46+47+48+49+50+51+52+53+54+55+56+57+58+59+60+61+62+63+64+65+66+67+68+69+70+71+72+73+74+75+76+77+78+79+80+81+82+83+84+85+86+87+88+89+90+91+92+93+94+95+96+97+98+99+100=5050"
     ]
    }
   ],
   "metadata": {}
  },
  {
   "cell_type": "code",
   "execution_count": 120,
   "source": [
    "summa=0\r\n",
    "\r\n",
    "for i in range(1,101,2):\r\n",
    "    \r\n",
    "    summa+=i\r\n",
    "    \r\n",
    "    print(f\"{i}\", end = \"\")\r\n",
    "    \r\n",
    "    if i != 99:\r\n",
    "        print(\"+\", end=\"\")\r\n",
    "    \r\n",
    "    if i == 99:\r\n",
    "            print(f\"={summa}\", end=\"\")"
   ],
   "outputs": [
    {
     "output_type": "stream",
     "name": "stdout",
     "text": [
      "1+3+5+7+9+11+13+15+17+19+21+23+25+27+29+31+33+35+37+39+41+43+45+47+49+51+53+55+57+59+61+63+65+67+69+71+73+75+77+79+81+83+85+87+89+91+93+95+97+99=2500"
     ]
    }
   ],
   "metadata": {}
  },
  {
   "cell_type": "markdown",
   "source": [
    "# 3. Multiplication table (*)\r\n",
    "Use for statement(s) to:\r\n",
    "\r\n",
    "  a)   print out the 6th multiplication table from 0 to 10 (*)\r\n",
    "\r\n",
    "  b)   let the user input the table, start and end of the table. (*)\r\n",
    "\r\n",
    "  c)   print out a full multiplication table from 0 to 10. (**)"
   ],
   "metadata": {}
  },
  {
   "cell_type": "code",
   "execution_count": 164,
   "source": [
    "number=6\r\n",
    "for i in range(1,10):\r\n",
    "    result=number*i\r\n",
    "    print(f'{number}*{i} = {result}')"
   ],
   "outputs": [
    {
     "output_type": "stream",
     "name": "stdout",
     "text": [
      "6*1 = 6\n",
      "6*2 = 12\n",
      "6*3 = 18\n",
      "6*4 = 24\n",
      "6*5 = 30\n",
      "6*6 = 36\n",
      "6*7 = 42\n",
      "6*8 = 48\n",
      "6*9 = 54\n"
     ]
    }
   ],
   "metadata": {}
  },
  {
   "cell_type": "code",
   "execution_count": 179,
   "source": [
    "number1=int(input(\"type a start\"))\r\n",
    "number2=int(input(\"type an end\"))\r\n",
    "\r\n",
    "for i in range(number1,number2+1):\r\n",
    "    for j in range(number1,number2+1):\r\n",
    "        print('{}x{}={}\\t'.format(j, i, i*j), end='')\r\n"
   ],
   "outputs": [
    {
     "output_type": "stream",
     "name": "stdout",
     "text": [
      "3x3=9\t4x3=12\t5x3=15\t6x3=18\t3x4=12\t4x4=16\t5x4=20\t6x4=24\t3x5=15\t4x5=20\t5x5=25\t6x5=30\t3x6=18\t4x6=24\t5x6=30\t6x6=36\t"
     ]
    }
   ],
   "metadata": {}
  },
  {
   "cell_type": "code",
   "execution_count": 173,
   "source": [
    "for i in range(1, 11):\r\n",
    "    for j in range(1, 11):\r\n",
    "        print('{}x{}={}\\t'.format(j, i, i*j), end='')\r\n",
    "    print()"
   ],
   "outputs": [
    {
     "output_type": "stream",
     "name": "stdout",
     "text": [
      "1x1=1\t2x1=2\t3x1=3\t4x1=4\t5x1=5\t6x1=6\t7x1=7\t8x1=8\t9x1=9\t10x1=10\t\n",
      "1x2=2\t2x2=4\t3x2=6\t4x2=8\t5x2=10\t6x2=12\t7x2=14\t8x2=16\t9x2=18\t10x2=20\t\n",
      "1x3=3\t2x3=6\t3x3=9\t4x3=12\t5x3=15\t6x3=18\t7x3=21\t8x3=24\t9x3=27\t10x3=30\t\n",
      "1x4=4\t2x4=8\t3x4=12\t4x4=16\t5x4=20\t6x4=24\t7x4=28\t8x4=32\t9x4=36\t10x4=40\t\n",
      "1x5=5\t2x5=10\t3x5=15\t4x5=20\t5x5=25\t6x5=30\t7x5=35\t8x5=40\t9x5=45\t10x5=50\t\n",
      "1x6=6\t2x6=12\t3x6=18\t4x6=24\t5x6=30\t6x6=36\t7x6=42\t8x6=48\t9x6=54\t10x6=60\t\n",
      "1x7=7\t2x7=14\t3x7=21\t4x7=28\t5x7=35\t6x7=42\t7x7=49\t8x7=56\t9x7=63\t10x7=70\t\n",
      "1x8=8\t2x8=16\t3x8=24\t4x8=32\t5x8=40\t6x8=48\t7x8=56\t8x8=64\t9x8=72\t10x8=80\t\n",
      "1x9=9\t2x9=18\t3x9=27\t4x9=36\t5x9=45\t6x9=54\t7x9=63\t8x9=72\t9x9=81\t10x9=90\t\n",
      "1x10=10\t2x10=20\t3x10=30\t4x10=40\t5x10=50\t6x10=60\t7x10=70\t8x10=80\t9x10=90\t10x10=100\t\n"
     ]
    }
   ],
   "metadata": {}
  }
 ],
 "metadata": {
  "orig_nbformat": 4,
  "language_info": {
   "name": "python",
   "version": "3.9.6",
   "mimetype": "text/x-python",
   "codemirror_mode": {
    "name": "ipython",
    "version": 3
   },
   "pygments_lexer": "ipython3",
   "nbconvert_exporter": "python",
   "file_extension": ".py"
  },
  "kernelspec": {
   "name": "python3",
   "display_name": "Python 3.9.6 64-bit ('python-programming-Kun-Han-lwkoREgH': pipenv)"
  },
  "interpreter": {
   "hash": "7565875fc860841d1ac58932c3399b2f9de3300a7321d66f878423c047ece803"
  }
 },
 "nbformat": 4,
 "nbformat_minor": 2
}
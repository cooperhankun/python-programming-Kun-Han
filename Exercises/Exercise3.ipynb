{
 "cells": [
  {
   "cell_type": "markdown",
   "source": [
    "\r\n",
    "# 1. Count numbers (*)\r\n",
    "Use a for statement to count from:\r\n",
    "\r\n",
    "  a)   -10 to 10 with one increment (*)\r\n",
    "\r\n",
    "  b)   -10 to 10 with two increment (*)"
   ],
   "metadata": {}
  },
  {
   "cell_type": "code",
   "execution_count": 2,
   "source": [
    "for i in range(-10,11):\r\n",
    "    print(i, end=\" \")"
   ],
   "outputs": [
    {
     "output_type": "stream",
     "name": "stdout",
     "text": [
      "-10 -9 -8 -7 -6 -5 -4 -3 -2 -1 0 1 2 3 4 5 6 7 8 9 10 "
     ]
    }
   ],
   "metadata": {}
  },
  {
   "cell_type": "code",
   "execution_count": 7,
   "source": [
    "for i in range(-10,11,2):\r\n",
    "    print(i, end=\" \")"
   ],
   "outputs": [
    {
     "output_type": "stream",
     "name": "stdout",
     "text": [
      "-10 -8 -6 -4 -2 0 2 4 6 8 10 "
     ]
    }
   ],
   "metadata": {}
  },
  {
   "cell_type": "markdown",
   "source": [
    "# 2. Arithmetic sum (*)\r\n",
    "Use a for statement to compute the following sums:\r\n",
    "\r\n",
    "  a)   $\\text{sum} = 1 + 2 + \\ldots + 99+ 100$ (*)\r\n",
    "\r\n",
    "  b)   $\\text{sum} = 1 + 3 + 5 + \\ldots + 97 + 99$ (*)"
   ],
   "metadata": {}
  },
  {
   "cell_type": "code",
   "execution_count": 108,
   "source": [
    "summa=0\r\n",
    "\r\n",
    "for i in range(0,101):\r\n",
    "    \r\n",
    "    summa+=i\r\n",
    "    \r\n",
    "    print(f\"{i}\", end = \"\")\r\n",
    "    if i != 100:\r\n",
    "        print(\"+\", end=\"\")\r\n",
    "\r\n",
    "    if i == 100:\r\n",
    "        print(f\"={summa}\", end=\"\")\r\n",
    "        \r\n"
   ],
   "outputs": [
    {
     "output_type": "stream",
     "name": "stdout",
     "text": [
      "0+1+2+3+4+5+6+7+8+9+10+11+12+13+14+15+16+17+18+19+20+21+22+23+24+25+26+27+28+29+30+31+32+33+34+35+36+37+38+39+40+41+42+43+44+45+46+47+48+49+50+51+52+53+54+55+56+57+58+59+60+61+62+63+64+65+66+67+68+69+70+71+72+73+74+75+76+77+78+79+80+81+82+83+84+85+86+87+88+89+90+91+92+93+94+95+96+97+98+99+100=5050"
     ]
    }
   ],
   "metadata": {}
  },
  {
   "cell_type": "code",
   "execution_count": 120,
   "source": [
    "summa=0\r\n",
    "\r\n",
    "for i in range(1,101,2):\r\n",
    "    \r\n",
    "    summa+=i\r\n",
    "    \r\n",
    "    print(f\"{i}\", end = \"\")\r\n",
    "    \r\n",
    "    if i != 99:\r\n",
    "        print(\"+\", end=\"\")\r\n",
    "    \r\n",
    "    if i == 99:\r\n",
    "            print(f\"={summa}\", end=\"\")"
   ],
   "outputs": [
    {
     "output_type": "stream",
     "name": "stdout",
     "text": [
      "1+3+5+7+9+11+13+15+17+19+21+23+25+27+29+31+33+35+37+39+41+43+45+47+49+51+53+55+57+59+61+63+65+67+69+71+73+75+77+79+81+83+85+87+89+91+93+95+97+99=2500"
     ]
    }
   ],
   "metadata": {}
  },
  {
   "cell_type": "markdown",
   "source": [
    "# 3. Multiplication table (*)\r\n",
    "Use for statement(s) to:\r\n",
    "\r\n",
    "  a)   print out the 6th multiplication table from 0 to 10 (*)\r\n",
    "\r\n",
    "  b)   let the user input the table, start and end of the table. (*)\r\n",
    "\r\n",
    "  c)   print out a full multiplication table from 0 to 10. (**)"
   ],
   "metadata": {}
  },
  {
   "cell_type": "code",
   "execution_count": null,
   "source": [],
   "outputs": [],
   "metadata": {}
  }
 ],
 "metadata": {
  "orig_nbformat": 4,
  "language_info": {
   "name": "python",
   "version": "3.9.6",
   "mimetype": "text/x-python",
   "codemirror_mode": {
    "name": "ipython",
    "version": 3
   },
   "pygments_lexer": "ipython3",
   "nbconvert_exporter": "python",
   "file_extension": ".py"
  },
  "kernelspec": {
   "name": "python3",
   "display_name": "Python 3.9.6 64-bit ('python-programming-Kun-Han-lwkoREgH': pipenv)"
  },
  "interpreter": {
   "hash": "7565875fc860841d1ac58932c3399b2f9de3300a7321d66f878423c047ece803"
  }
 },
 "nbformat": 4,
 "nbformat_minor": 2
}
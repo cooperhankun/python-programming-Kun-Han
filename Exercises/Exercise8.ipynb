{
 "cells": [
  {
   "cell_type": "markdown",
   "source": [
    "## 1. Dice rolls (*)\r\n",
    "Create a textfile called dice_rolls.txt using Python. Also for each subtask, write adequate headers.\r\n",
    "\r\n",
    "  a)   Simulate 20 dice rolls and write them to your textfile. (*)\r\n",
    "\r\n",
    "  b)   Sort the dice rolls from a) and write them to a separate row in the same textfile. (*)\r\n",
    "\r\n",
    "  c)   Count the number of fours in the dice rolls and write them to a separate row in the same textfile. (*)\r\n",
    "\r\n"
   ],
   "metadata": {}
  },
  {
   "cell_type": "code",
   "execution_count": 319,
   "source": [
    "import random as rnd\r\n",
    "\r\n",
    "path= \"files/dice_rolls.txt\"\r\n",
    "\r\n",
    "\r\n",
    "with open(path, \"w\") as f:\r\n",
    "\r\n",
    "\r\n",
    "    for i in range(20):\r\n",
    "        \r\n",
    "        i = rnd.randint(1,6)\r\n",
    "        \r\n",
    "        f.write(f\"{i} \")\r\n",
    "\r\n",
    "\r\n"
   ],
   "outputs": [],
   "metadata": {}
  },
  {
   "cell_type": "code",
   "execution_count": 320,
   "source": [
    "\r\n",
    "path= \"files/dice_rolls.txt\"\r\n",
    "i=0\r\n",
    "\r\n",
    "with open(path, \"r+\") as f_read:\r\n",
    "    numbers = f_read.readlines()\r\n",
    "    new = numbers[0].split()\r\n",
    "    new.sort()\r\n",
    "\r\n",
    "    for number in new:\r\n",
    "\r\n",
    "        f_read.write(f\"{number}\\n\")\r\n",
    "\r\n",
    "        if number == \"4\":\r\n",
    "            i+=1\r\n",
    "            \r\n",
    "    f_read.write(f\"There is {i} times four\")\r\n",
    "\r\n",
    "    \r\n",
    "\r\n"
   ],
   "outputs": [],
   "metadata": {}
  },
  {
   "cell_type": "markdown",
   "source": [
    "# 2. Test results (*)\r\n",
    "Read in the file test_result.txt in Python.\r\n",
    "\r\n",
    "  a)   Print out the text in the terminal (*)\r\n",
    "\r\n",
    "  b)   Create new rows in the same file and write the people and their corresponding scores in alphabetical order. (*)\r\n",
    "\r\n",
    "  c)   Create additional rows in the same file and sort the people after their grades. The grade limits are: (**)\r\n",
    "\r\n",
    "F < 20\r\n",
    "\r\n",
    "E: 20-29\r\n",
    "\r\n",
    "D: 30-39\r\n",
    "\r\n",
    "C: 40-49\r\n",
    "\r\n",
    "B: 50-59\r\n",
    "\r\n",
    "A: 60-70"
   ],
   "metadata": {}
  },
  {
   "cell_type": "code",
   "execution_count": 328,
   "source": [
    "path= \"files/test_result.txt\"\r\n",
    "\r\n",
    "with open(path, \"r+\") as f:\r\n",
    "    text=f.read()\r\n",
    "print(text)"
   ],
   "outputs": [
    {
     "output_type": "stream",
     "name": "stdout",
     "text": [
      "Adam Gustafsson 25\n",
      "Emil Johansson 23\n",
      "Sven Erik Karlsson 13\n",
      "Ove Karlsten 41\n",
      "Emma Boden 32\n",
      "Ida HÃ¥kansson 23\n",
      "Ella Ester 41\n",
      "Hanna Karlsson 23 \n",
      "Johan Johansson 42\n",
      "Sven Erik Lundin 39\n",
      "BjÃ¶rn BjÃ¶rnsson 39\n",
      "Karl Karlsson 32\n",
      "Bose Bosseson 32\n",
      "HÃ¥kan HÃ¥kanson 24\n",
      "Jonas Jonasson 31\n",
      "Erik Eriksson 31\n",
      "Gore Bord 55\n",
      "Jakob Kallander 65\n",
      "Fredrika Ulven 10\n"
     ]
    }
   ],
   "metadata": {}
  },
  {
   "cell_type": "code",
   "execution_count": null,
   "source": [],
   "outputs": [],
   "metadata": {}
  }
 ],
 "metadata": {
  "orig_nbformat": 4,
  "language_info": {
   "name": "python",
   "version": "3.9.6",
   "mimetype": "text/x-python",
   "codemirror_mode": {
    "name": "ipython",
    "version": 3
   },
   "pygments_lexer": "ipython3",
   "nbconvert_exporter": "python",
   "file_extension": ".py"
  },
  "kernelspec": {
   "name": "python3",
   "display_name": "Python 3.9.6 64-bit ('python-programming-Kun-Han-lwkoREgH': virtualenv)"
  },
  "interpreter": {
   "hash": "7565875fc860841d1ac58932c3399b2f9de3300a7321d66f878423c047ece803"
  }
 },
 "nbformat": 4,
 "nbformat_minor": 2
}
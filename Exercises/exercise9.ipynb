{
 "cells": [
  {
   "cell_type": "markdown",
   "source": [
    "# 1. Curriculum (*)\r\n",
    "Create a dictionary containing all the courses that you will study in this program, with the course names as keys and the amount of points as value. Then calculate the number of points that you will study in total. (*)"
   ],
   "metadata": {}
  },
  {
   "cell_type": "code",
   "execution_count": 32,
   "source": [
    "courses = dict(\r\n",
    "    Introduktionskurs_till_AI = 10,\r\n",
    "    Programmering_med_Python = 10,\r\n",
    "    Databehandling = 10,\r\n",
    "    Visualisering_presentation_och_storytelling = 10,\r\n",
    "    Statistiska_metoder = 10,\r\n",
    "    Maskininlärning = 10,\r\n",
    "    Djup_maskininlärning = 10,\r\n",
    "    Databaser = 10,\r\n",
    "    LIA_1 = 10,\r\n",
    "    Praktisk_maskininlärning = 10,\r\n",
    "    Projektmetodik = 10,\r\n",
    "    LIA_2 = 10,\r\n",
    "    Examensarbete = 10\r\n",
    ")\r\n",
    "print(\"We will study these courses: \\n\")\r\n",
    "\r\n",
    "for key in courses:\r\n",
    "    print(key)\r\n",
    "\r\n",
    "suma = 0\r\n",
    "for scores in courses.values():\r\n",
    "    suma += scores\r\n",
    "print(f\"\\nThe total scores i need to gain is {suma}\")\r\n"
   ],
   "outputs": [
    {
     "output_type": "stream",
     "name": "stdout",
     "text": [
      "We will study these courses: \n",
      "\n",
      "Introduktionskurs_till_AI\n",
      "Programmering_med_Python\n",
      "Databehandling\n",
      "Visualisering_presentation_och_storytelling\n",
      "Statistiska_metoder\n",
      "Maskininlärning\n",
      "Djup_maskininlärning\n",
      "Databaser\n",
      "LIA_1\n",
      "Praktisk_maskininlärning\n",
      "Projektmetodik\n",
      "LIA_2\n",
      "Examensarbete\n",
      "\n",
      "The total scores i need to gain is 130\n"
     ]
    }
   ],
   "metadata": {}
  },
  {
   "cell_type": "markdown",
   "source": [
    "# 2. Dice simulation (*)\r\n",
    "Simulate 1000000 dice rolls and save the number of ones, twos, ..., sixes in a dictionary. Then print them out in the terminal. (*)\r\n",
    "\r\n"
   ],
   "metadata": {}
  },
  {
   "cell_type": "code",
   "execution_count": 150,
   "source": [
    "import random as rnd\r\n",
    "\r\n",
    "rolls1= {\"one\":ones,\"two\": twos, \"three\": threes, \"four\": fours, \"five\": fives, \"six\": sixes}\r\n",
    "\r\n",
    "\r\n",
    "dices= [rnd.randint(1,6) for i in range(1000000)]\r\n",
    "\r\n",
    "ones=0\r\n",
    "twos=0\r\n",
    "threes=0\r\n",
    "fours=0\r\n",
    "fives=0\r\n",
    "sixes=0\r\n",
    "\r\n",
    "for dice in dices:\r\n",
    "    if dice == 1:\r\n",
    "        ones+=1\r\n",
    "    if dice == 2:\r\n",
    "        twos+=1\r\n",
    "    if dice == 3:\r\n",
    "        threes+=1\r\n",
    "    if dice == 4:\r\n",
    "        fours+=1\r\n",
    "    if dice == 5:\r\n",
    "        fives+=1\r\n",
    "    if dice == 6:\r\n",
    "        sixes+=1\r\n",
    "\r\n",
    "print(rolls1)\r\n",
    "\r\n"
   ],
   "outputs": [
    {
     "output_type": "stream",
     "name": "stdout",
     "text": [
      "{'one': 166492, 'two': 166869, 'three': 166562, 'four': 167328, 'five': 166501, 'six': 166248}\n"
     ]
    }
   ],
   "metadata": {}
  },
  {
   "cell_type": "code",
   "execution_count": 124,
   "source": [
    "import random as rnd\r\n",
    "\r\n",
    "\r\n",
    "rolls = {\"one\": 1, \"two\": 2 ,\"three\": 3,\"four\": 4,\"five\": 5,\"six\": 6}\r\n",
    "# print(rolls)\r\n",
    "\r\n",
    "numbers = [rnd.randint(1,6) for i in range(1000000)]\r\n",
    "\r\n",
    "roll_count = {key: 0 for key in rolls}\r\n",
    "\r\n",
    "for number in numbers:\r\n",
    "    for roll, value in rolls.items():\r\n",
    "        if value <= number < value + 1:\r\n",
    "            roll_count[roll] += 1\r\n",
    "\r\n",
    "print(f\"Rolls count {roll_count}\")"
   ],
   "outputs": [
    {
     "output_type": "stream",
     "name": "stdout",
     "text": [
      "Rolls count {'one': 166064, 'two': 166808, 'three': 166845, 'four': 166161, 'five': 167274, 'six': 166848}\n"
     ]
    }
   ],
   "metadata": {}
  },
  {
   "cell_type": "markdown",
   "source": [
    "# 3. Pokemon list (*)\r\n",
    "Read in the file pokemon_list.txt in Python. Create a variable with name pokedex with the key:value \"pokemon\":\"type, index\". For example when searching for the keys \"Gengar\" and \"Pikachu\": (*)"
   ],
   "metadata": {}
  },
  {
   "cell_type": "code",
   "execution_count": 347,
   "source": [
    "path = \"files/pokemon_list.txt\"\r\n",
    "with open (path, \"r\") as f:\r\n",
    "    text = [text.strip(\"\\n\").split(\" \") for text in f.readlines()]\r\n",
    "    # print(text)\r\n",
    "\r\n",
    "    pokedex={}\r\n",
    "\r\n",
    "    for poke in text:\r\n",
    "        pokedex [poke[1]] = f\"{poke[0]}, {poke[2]}\"\r\n",
    "        \r\n",
    "print(pokedex)\r\n",
    "print(pokedex[\"Gengar\"])\r\n",
    "print(pokedex[\"Pikachu\"])\r\n",
    "\r\n",
    "\r\n",
    "       \r\n",
    "    \r\n",
    "\r\n"
   ],
   "outputs": [
    {
     "output_type": "stream",
     "name": "stdout",
     "text": [
      "{'Bulbasaur': 'ï»¿1, GrÃ¤s/Gift', 'Ivysaur': '2, GrÃ¤s/Gift', 'Venusaur': '3, GrÃ¤s/Gift', 'Charmander': '4, Eld', 'Charmeleon': '5, Eld', 'Charizard': '6, Eld/Flygande', 'Squirtle': '7, Vatten', 'Wartortle': '8, Vatten', 'Blastoise': '9, Vatten', 'Caterpie': '10, Insekt', 'Metapod': '11, Insekt', 'Butterfree': '12, Insekt/Flygande', 'Weedle': '13, Insekt/Gift', 'Kakuna': '14, Insekt/Gift', 'Beedrill': '15, Insekt/Gift', 'Pidgey': '16, Normal/Flygande', 'Pidgeotto': '17, Normal/Flygande', 'Pidgeot': '18, Normal/Flygande', 'Rattata': '19, Normal', 'Raticate': '20, Normal', 'Spearow': '21, Normal/Flygande', 'Fearow': '22, Normal/Flygande', 'Ekans': '23, Gift', 'Arbok': '24, Gift', 'Pikachu': '25, Elektrisk', 'Raichu': '26, Elektrisk', 'Sandshrew': '27, Mark', 'Sandslash': '28, Mark', 'Nidoranâ™€': '29, Gift', 'Nidorina': '30, Gift', 'Nidoqueen': '31, Gift/Mark', 'Nidoranâ™‚': '32, Gift', 'Nidorino': '33, Gift', 'Nidoking': '34, Gift/Mark', 'Clefairy': '35, FÃ©', 'Clefable': '36, FÃ©', 'Vulpix': '37, Eld', 'Ninetales': '38, Eld', 'Jigglypuff': '39, Normal/FÃ©', 'Wigglytuff': '40, Normal/FÃ©', 'Zubat': '41, Gift/Flygande', 'Golbat': '42, Gift/Flygande', 'Oddish': '43, GrÃ¤s/Gift', 'Gloom': '44, GrÃ¤s/Gift', 'Vileplume': '45, GrÃ¤s/Gift', 'Paras': '46, Insekt/GrÃ¤s', 'Parasect': '47, Insekt/GrÃ¤s', 'Venonat': '48, Insekt/Gift', 'Venomoth': '49, Insekt/Gift', 'Diglett': '50, Mark', 'Dugtrio': '51, Mark', 'Meowth': '52, Normal', 'Persian': '53, Normal', 'Psyduck': '54, Vatten', 'Golduck': '55, Vatten', 'Mankey': '56, Kamp', 'Primeape': '57, Kamp', 'Growlithe': '58, Eld', 'Arcanine': '59, Eld', 'Poliwag': '60, Vatten', 'Poliwhirl': '61, Vatten', 'Poliwrath': '62, Vatten/Kamp', 'Abra': '63, Psykisk', 'Kadabra': '64, Psykisk', 'Alakazam': '65, Psykisk', 'Machop': '66, Kamp', 'Machoke': '67, Kamp', 'Machamp': '68, Kamp', 'Bellsprout': '69, GrÃ¤s/Gift', 'Weepinbell': '70, GrÃ¤s/Gift', 'Victreebel': '71, GrÃ¤s/Gift', 'Tentacool': '72, Vatten/Gift', 'Tentacruel': '73, Vatten/Gift', 'Geodude': '74, Sten/Mark', 'Graveler': '75, Sten/Mark', 'Golem': '76, Sten/Mark', 'Ponyta': '77, Eld', 'Rapidash': '78, Eld', 'Slowpoke': '79, Vatten/Psykisk', 'Slowbro': '80, Vatten/Psykisk', 'Magnemite': '81, Elektrisk/StÃ¥l', 'Magneton': '82, Elektrisk/StÃ¥l', \"Farfetch'd\": '83, Normal/Flygande', 'Doduo': '84, Normal/Flygande', 'Dodrio': '85, Normal/Flygande', 'Seel': '86, Vatten', 'Dewgong': '87, Vatten/Is', 'Grimer': '88, Gift', 'Muk': '89, Gift', 'Shellder': '90, Vatten', 'Cloyster': '91, Vatten/Is', 'Gastly': '92, SpÃ¶ke/Gift', 'Haunter': '93, SpÃ¶ke/Gift', 'Gengar': '94, SpÃ¶ke/Gift', 'Onix': '95, Sten/Mark', 'Drowzee': '96, Psykisk', 'Hypno': '97, Psykisk', 'Krabby': '98, Vatten', 'Kingler': '99, Vatten', 'Voltorb': '100, Elektrisk', 'Electrode': '101, Elektrisk', 'Exeggcute': '102, GrÃ¤s/Psykisk', 'Exeggutor': '103, GrÃ¤s/Psykisk', 'Cubone': '104, Mark', 'Marowak': '105, Mark', 'Hitmonlee': '106, Kamp', 'Hitmonchan': '107, Kamp', 'Lickitung': '108, Normal', 'Koffing': '109, Gift', 'Weezing': '110, Gift', 'Rhyhorn': '111, Mark/Sten', 'Rhydon': '112, Mark/Sten', 'Chansey': '113, Normal', 'Tangela': '114, GrÃ¤s', 'Kangaskhan': '115, Normal', 'Horsea': '116, Vatten', 'Seadra': '117, Vatten', 'Goldeen': '118, Vatten', 'Seaking': '119, Vatten', 'Staryu': '120, Vatten', 'Starmie': '121, Vatten/Psykisk', 'Mr.': '122, 122', 'Scyther': '123, Insekt/Flygande', 'Jynx': '124, Is/Psykisk', 'Electabuzz': '125, Elektrisk', 'Magmar': '126, Eld', 'Pinsir': '127, Insekt', 'Tauros': '128, Normal', 'Magikarp': '129, Vatten', 'Gyarados': '130, Vatten/Flygande', 'Lapras': '131, Vatten/Is', 'Ditto': '132, Normal', 'Eevee': '133, Normal', 'Vaporeon': '134, Vatten', 'Jolteon': '135, Elektrisk', 'Flareon': '136, Eld', 'Porygon': '137, Normal', 'Omanyte': '138, Sten/Vatten', 'Omastar': '139, Sten/Vatten', 'Kabuto': '140, Sten/Vatten', 'Kabutops': '141, Sten/Vatten', 'Aerodactyl': '142, Sten/Flygande', 'Snorlax': '143, Normal', 'Articuno': '144, Is/Flygande', 'Zapdos': '145, Elektrisk/Flygande', 'Moltres': '146, Eld/Flygande', 'Dratini': '147, Drake', 'Dragonair': '148, Drake', 'Dragonite': '149, Drake/Flygande', 'Mewtwo': '150, Psykisk'}\n",
      "94, SpÃ¶ke/Gift\n",
      "25, Elektrisk\n"
     ]
    }
   ],
   "metadata": {}
  },
  {
   "cell_type": "markdown",
   "source": [
    "# 4. Morse code (**)\r\n",
    "Read in the file morse.txt, save it in a dictionary and create a function that lets the user input a message to get it translated to morse code. For example (**)"
   ],
   "metadata": {}
  },
  {
   "cell_type": "code",
   "execution_count": 355,
   "source": [
    "path = \"files/morse.txt\"\r\n",
    "with open (path, \"r\") as f:\r\n",
    "    text = [text.strip(\"\\n\") for text in f.readlines()]\r\n",
    "    print(text)\r\n",
    "    morse= {text:}\r\n",
    "\r\n",
    "    \r\n"
   ],
   "outputs": [
    {
     "output_type": "stream",
     "name": "stdout",
     "text": [
      "['A: .-', 'B: -...', 'C: -.-.', 'D: -..', 'E: .', 'F: ..-.', 'G: --', 'H: ....', 'I: ..', 'J: .---', 'K: -.-', 'L: .-..', 'M: --', 'N: -.', 'O: ---', 'P: .--', 'Q: --.-', 'R: .-.', 'S: ...', 'T: -', 'U: ..-', 'V: ...-', 'W: .--', 'X: -..-', 'Y: -.--', 'Z: --..', 'Ã…: .--.-', 'Ã„: .-.-', 'Ã–: ---']\n"
     ]
    },
    {
     "output_type": "error",
     "ename": "TypeError",
     "evalue": "unhashable type: 'list'",
     "traceback": [
      "\u001b[1;31m---------------------------------------------------------------------------\u001b[0m",
      "\u001b[1;31mTypeError\u001b[0m                                 Traceback (most recent call last)",
      "\u001b[1;32m~\\AppData\\Local\\Temp/ipykernel_13500/933474428.py\u001b[0m in \u001b[0;36m<module>\u001b[1;34m\u001b[0m\n\u001b[0;32m      3\u001b[0m     \u001b[0mtext\u001b[0m \u001b[1;33m=\u001b[0m \u001b[1;33m[\u001b[0m\u001b[0mtext\u001b[0m\u001b[1;33m.\u001b[0m\u001b[0mstrip\u001b[0m\u001b[1;33m(\u001b[0m\u001b[1;34m\"\\n\"\u001b[0m\u001b[1;33m)\u001b[0m \u001b[1;32mfor\u001b[0m \u001b[0mtext\u001b[0m \u001b[1;32min\u001b[0m \u001b[0mf\u001b[0m\u001b[1;33m.\u001b[0m\u001b[0mreadlines\u001b[0m\u001b[1;33m(\u001b[0m\u001b[1;33m)\u001b[0m\u001b[1;33m]\u001b[0m\u001b[1;33m\u001b[0m\u001b[1;33m\u001b[0m\u001b[0m\n\u001b[0;32m      4\u001b[0m     \u001b[0mprint\u001b[0m\u001b[1;33m(\u001b[0m\u001b[0mtext\u001b[0m\u001b[1;33m)\u001b[0m\u001b[1;33m\u001b[0m\u001b[1;33m\u001b[0m\u001b[0m\n\u001b[1;32m----> 5\u001b[1;33m     \u001b[0mmorse\u001b[0m\u001b[1;33m=\u001b[0m \u001b[1;33m{\u001b[0m\u001b[0mtext\u001b[0m\u001b[1;33m}\u001b[0m\u001b[1;33m\u001b[0m\u001b[1;33m\u001b[0m\u001b[0m\n\u001b[0m\u001b[0;32m      6\u001b[0m \u001b[1;33m\u001b[0m\u001b[0m\n\u001b[0;32m      7\u001b[0m \u001b[1;33m\u001b[0m\u001b[0m\n",
      "\u001b[1;31mTypeError\u001b[0m: unhashable type: 'list'"
     ]
    }
   ],
   "metadata": {}
  }
 ],
 "metadata": {
  "orig_nbformat": 4,
  "language_info": {
   "name": "python",
   "version": "3.9.6",
   "mimetype": "text/x-python",
   "codemirror_mode": {
    "name": "ipython",
    "version": 3
   },
   "pygments_lexer": "ipython3",
   "nbconvert_exporter": "python",
   "file_extension": ".py"
  },
  "kernelspec": {
   "name": "python3",
   "display_name": "Python 3.9.6 64-bit ('python-programming-Kun-Han-lwkoREgH': virtualenv)"
  },
  "interpreter": {
   "hash": "7565875fc860841d1ac58932c3399b2f9de3300a7321d66f878423c047ece803"
  }
 },
 "nbformat": 4,
 "nbformat_minor": 2
}
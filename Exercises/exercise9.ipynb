{
 "cells": [
  {
   "cell_type": "markdown",
   "source": [
    "# 1. Curriculum (*)\r\n",
    "Create a dictionary containing all the courses that you will study in this program, with the course names as keys and the amount of points as value. Then calculate the number of points that you will study in total. (*)"
   ],
   "metadata": {}
  },
  {
   "cell_type": "code",
   "execution_count": 32,
   "source": [
    "courses = dict(\r\n",
    "    Introduktionskurs_till_AI = 10,\r\n",
    "    Programmering_med_Python = 10,\r\n",
    "    Databehandling = 10,\r\n",
    "    Visualisering_presentation_och_storytelling = 10,\r\n",
    "    Statistiska_metoder = 10,\r\n",
    "    Maskininlärning = 10,\r\n",
    "    Djup_maskininlärning = 10,\r\n",
    "    Databaser = 10,\r\n",
    "    LIA_1 = 10,\r\n",
    "    Praktisk_maskininlärning = 10,\r\n",
    "    Projektmetodik = 10,\r\n",
    "    LIA_2 = 10,\r\n",
    "    Examensarbete = 10\r\n",
    ")\r\n",
    "print(\"We will study these courses: \\n\")\r\n",
    "\r\n",
    "for key in courses:\r\n",
    "    print(key)\r\n",
    "\r\n",
    "suma = 0\r\n",
    "for scores in courses.values():\r\n",
    "    suma += scores\r\n",
    "print(f\"\\nThe total scores i need to gain is {suma}\")\r\n"
   ],
   "outputs": [
    {
     "output_type": "stream",
     "name": "stdout",
     "text": [
      "We will study these courses: \n",
      "\n",
      "Introduktionskurs_till_AI\n",
      "Programmering_med_Python\n",
      "Databehandling\n",
      "Visualisering_presentation_och_storytelling\n",
      "Statistiska_metoder\n",
      "Maskininlärning\n",
      "Djup_maskininlärning\n",
      "Databaser\n",
      "LIA_1\n",
      "Praktisk_maskininlärning\n",
      "Projektmetodik\n",
      "LIA_2\n",
      "Examensarbete\n",
      "\n",
      "The total scores i need to gain is 130\n"
     ]
    }
   ],
   "metadata": {}
  },
  {
   "cell_type": "markdown",
   "source": [
    "# 2. Dice simulation (*)\r\n",
    "Simulate 1000000 dice rolls and save the number of ones, twos, ..., sixes in a dictionary. Then print them out in the terminal. (*)\r\n",
    "\r\n"
   ],
   "metadata": {}
  },
  {
   "cell_type": "code",
   "execution_count": 94,
   "source": [
    "import random as rnd\r\n",
    "\r\n",
    "rolls= {\"one\":ones,\"two\": twos, \"three\": threes, \"four\": fours, \"five\": fives, \"six\": sixes}\r\n",
    "\r\n",
    "\r\n",
    "dices= [rnd.randint(1,6) for i in range(1000000)]\r\n",
    "\r\n",
    "ones=0\r\n",
    "twos=0\r\n",
    "threes=0\r\n",
    "fours=0\r\n",
    "fives=0\r\n",
    "sixes=0\r\n",
    "\r\n",
    "for dice in dices:\r\n",
    "    if dice == 1:\r\n",
    "        ones+=1\r\n",
    "    if dice == 2:\r\n",
    "        twos+=1\r\n",
    "    if dice == 3:\r\n",
    "        threes+=1\r\n",
    "    if dice == 4:\r\n",
    "        fours+=1\r\n",
    "    if dice == 5:\r\n",
    "        fives+=1\r\n",
    "    if dice == 6:\r\n",
    "        sixes+=1\r\n",
    "\r\n",
    "print(rolls)\r\n",
    "\r\n"
   ],
   "outputs": [
    {
     "output_type": "stream",
     "name": "stdout",
     "text": [
      "{'one': 166326, 'two': 166490, 'three': 167212, 'four': 167201, 'five': 166601, 'six': 166170}\n"
     ]
    }
   ],
   "metadata": {}
  },
  {
   "cell_type": "code",
   "execution_count": 124,
   "source": [
    "import random as rnd\r\n",
    "\r\n",
    "\r\n",
    "rolls = {\"one\": 1, \"two\": 2 ,\"three\": 3,\"four\": 4,\"five\": 5,\"six\": 6}\r\n",
    "# print(rolls)\r\n",
    "\r\n",
    "numbers = [rnd.randint(1,6) for i in range(1000000)]\r\n",
    "\r\n",
    "roll_count = {key: 0 for key in rolls}\r\n",
    "\r\n",
    "for number in numbers:\r\n",
    "    for roll, value in rolls.items():\r\n",
    "        if value <= number < value + 1:\r\n",
    "            roll_count[roll] += 1\r\n",
    "\r\n",
    "print(f\"Rolls count {roll_count}\")"
   ],
   "outputs": [
    {
     "output_type": "stream",
     "name": "stdout",
     "text": [
      "Rolls count {'one': 166064, 'two': 166808, 'three': 166845, 'four': 166161, 'five': 167274, 'six': 166848}\n"
     ]
    }
   ],
   "metadata": {}
  },
  {
   "cell_type": "markdown",
   "source": [
    "# 3. Pokemon list (*)\r\n",
    "Read in the file pokemon_list.txt in Python. Create a variable with name pokedex with the key:value \"pokemon\":\"type, index\". For example when searching for the keys \"Gengar\" and \"Pikachu\": (*)"
   ],
   "metadata": {}
  },
  {
   "cell_type": "code",
   "execution_count": 148,
   "source": [
    "path = \"files/pokemon_list.txt\"\r\n",
    "with open (path, \"r\") as f:\r\n",
    "    text = {text.strip(\"\\n\") for text in f.readlines()}\r\n",
    "    print(text)\r\n",
    "\r\n",
    "\r\n"
   ],
   "outputs": [
    {
     "output_type": "stream",
     "name": "stdout",
     "text": [
      "{'46 Paras Insekt/GrÃ¤s', '87 Dewgong Vatten/Is', '61 Poliwhirl Vatten', '140 Kabuto Sten/Vatten', '117 Seadra Vatten', '2 Ivysaur GrÃ¤s/Gift', '64 Kadabra Psykisk', '149 Dragonite Drake/Flygande', '143 Snorlax Normal', '47 Parasect Insekt/GrÃ¤s', '40 Wigglytuff Normal/FÃ©', '124 Jynx Is/Psykisk', '91 Cloyster Vatten/Is', '95 Onix Sten/Mark', '88 Grimer Gift', '18 Pidgeot Normal/Flygande', '82 Magneton Elektrisk/StÃ¥l', '90 Shellder Vatten', '118 Goldeen Vatten', '139 Omastar Sten/Vatten', '35 Clefairy FÃ©', '26 Raichu Elektrisk', '114 Tangela GrÃ¤s', '144 Articuno Is/Flygande', '32 Nidoranâ™‚ Gift', '116 Horsea Vatten', '150 Mewtwo Psykisk', '44 Gloom GrÃ¤s/Gift', '73 Tentacruel Vatten/Gift', '52 Meowth Normal', '135 Jolteon Elektrisk', '81 Magnemite Elektrisk/StÃ¥l', '27 Sandshrew Mark', '63 Abra Psykisk', '104 Cubone Mark', '125 Electabuzz Elektrisk', '134 Vaporeon Vatten', '48 Venonat Insekt/Gift', '38 Ninetales Eld', '89 Muk Gift', '123 Scyther Insekt/Flygande', '42 Golbat Gift/Flygande', '72 Tentacool Vatten/Gift', '41 Zubat Gift/Flygande', '17 Pidgeotto Normal/Flygande', '85 Dodrio Normal/Flygande', '55 Golduck Vatten', '110 Weezing Gift', '25 Pikachu Elektrisk', '138 Omanyte Sten/Vatten', '102 Exeggcute GrÃ¤s/Psykisk', '66 Machop Kamp', '109 Koffing Gift', '60 Poliwag Vatten', '6 Charizard Eld/Flygande', '68 Machamp Kamp', '13 Weedle Insekt/Gift', '3 Venusaur GrÃ¤s/Gift', '53 Persian Normal', '131 Lapras Vatten/Is', '126 Magmar Eld', '129 Magikarp Vatten', '98 Krabby Vatten', '96 Drowzee Psykisk', '100 Voltorb Elektrisk', '21 Spearow Normal/Flygande', '112 Rhydon Mark/Sten', '137 Porygon Normal', '28 Sandslash Mark', '107 Hitmonchan Kamp', '14 Kakuna Insekt/Gift', '9 Blastoise Vatten', '12 Butterfree Insekt/Flygande', '119 Seaking Vatten', '58 Growlithe Eld', '29 Nidoranâ™€ Gift', '148 Dragonair Drake', '56 Mankey Kamp', '93 Haunter SpÃ¶ke/Gift', 'ï»¿1 Bulbasaur GrÃ¤s/Gift', '37 Vulpix Eld', '146 Moltres Eld/Flygande', '122 Mr. 122', '43 Oddish GrÃ¤s/Gift', '128 Tauros Normal', '101 Electrode Elektrisk', '86 Seel Vatten', '8 Wartortle Vatten', '33 Nidorino Gift', '16 Pidgey Normal/Flygande', '76 Golem Sten/Mark', '57 Primeape Kamp', '77 Ponyta Eld', \"83 Farfetch'd Normal/Flygande\", '65 Alakazam Psykisk', '69 Bellsprout GrÃ¤s/Gift', '15 Beedrill Insekt/Gift', '120 Staryu Vatten', '59 Arcanine Eld', '45 Vileplume GrÃ¤s/Gift', '70 Weepinbell GrÃ¤s/Gift', '11 Metapod Insekt', '5 Charmeleon Eld', '79 Slowpoke Vatten/Psykisk', '105 Marowak Mark', '108 Lickitung Normal', '121 Starmie Vatten/Psykisk', '106 Hitmonlee Kamp', '23 Ekans Gift', '115 Kangaskhan Normal', '10 Caterpie Insekt', '136 Flareon Eld', '30 Nidorina Gift', '94 Gengar SpÃ¶ke/Gift', '132 Ditto Normal', '141 Kabutops Sten/Vatten', '92 Gastly SpÃ¶ke/Gift', '31 Nidoqueen Gift/Mark', '49 Venomoth Insekt/Gift', '71 Victreebel GrÃ¤s/Gift', '19 Rattata Normal', '78 Rapidash Eld', '39 Jigglypuff Normal/FÃ©', '54 Psyduck Vatten', '127 Pinsir Insekt', '133 Eevee Normal', '130 Gyarados Vatten/Flygande', '113 Chansey Normal', '111 Rhyhorn Mark/Sten', '145 Zapdos Elektrisk/Flygande', '74 Geodude Sten/Mark', '7 Squirtle Vatten', '142 Aerodactyl Sten/Flygande', '147 Dratini Drake', '75 Graveler Sten/Mark', '97 Hypno Psykisk', '4 Charmander Eld', '80 Slowbro Vatten/Psykisk', '99 Kingler Vatten', '67 Machoke Kamp', '20 Raticate Normal', '24 Arbok Gift', '36 Clefable FÃ©', '51 Dugtrio Mark', '34 Nidoking Gift/Mark', '62 Poliwrath Vatten/Kamp', '50 Diglett Mark', '22 Fearow Normal/Flygande', '84 Doduo Normal/Flygande', '103 Exeggutor GrÃ¤s/Psykisk'}\n"
     ]
    }
   ],
   "metadata": {}
  }
 ],
 "metadata": {
  "orig_nbformat": 4,
  "language_info": {
   "name": "python",
   "version": "3.9.6",
   "mimetype": "text/x-python",
   "codemirror_mode": {
    "name": "ipython",
    "version": 3
   },
   "pygments_lexer": "ipython3",
   "nbconvert_exporter": "python",
   "file_extension": ".py"
  },
  "kernelspec": {
   "name": "python3",
   "display_name": "Python 3.9.6 64-bit ('python-programming-Kun-Han-lwkoREgH': virtualenv)"
  },
  "interpreter": {
   "hash": "7565875fc860841d1ac58932c3399b2f9de3300a7321d66f878423c047ece803"
  }
 },
 "nbformat": 4,
 "nbformat_minor": 2
}
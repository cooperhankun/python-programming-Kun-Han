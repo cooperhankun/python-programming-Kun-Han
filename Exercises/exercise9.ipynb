{
 "cells": [
  {
   "cell_type": "markdown",
   "source": [
    "# 1. Curriculum (*)\r\n",
    "Create a dictionary containing all the courses that you will study in this program, with the course names as keys and the amount of points as value. Then calculate the number of points that you will study in total. (*)"
   ],
   "metadata": {}
  },
  {
   "cell_type": "code",
   "execution_count": 32,
   "source": [
    "courses = dict(\r\n",
    "    Introduktionskurs_till_AI = 10,\r\n",
    "    Programmering_med_Python = 10,\r\n",
    "    Databehandling = 10,\r\n",
    "    Visualisering_presentation_och_storytelling = 10,\r\n",
    "    Statistiska_metoder = 10,\r\n",
    "    Maskininlärning = 10,\r\n",
    "    Djup_maskininlärning = 10,\r\n",
    "    Databaser = 10,\r\n",
    "    LIA_1 = 10,\r\n",
    "    Praktisk_maskininlärning = 10,\r\n",
    "    Projektmetodik = 10,\r\n",
    "    LIA_2 = 10,\r\n",
    "    Examensarbete = 10\r\n",
    ")\r\n",
    "print(\"We will study these courses: \\n\")\r\n",
    "\r\n",
    "for key in courses:\r\n",
    "    print(key)\r\n",
    "\r\n",
    "suma = 0\r\n",
    "for scores in courses.values():\r\n",
    "    suma += scores\r\n",
    "print(f\"\\nThe total scores i need to gain is {suma}\")\r\n"
   ],
   "outputs": [
    {
     "output_type": "stream",
     "name": "stdout",
     "text": [
      "We will study these courses: \n",
      "\n",
      "Introduktionskurs_till_AI\n",
      "Programmering_med_Python\n",
      "Databehandling\n",
      "Visualisering_presentation_och_storytelling\n",
      "Statistiska_metoder\n",
      "Maskininlärning\n",
      "Djup_maskininlärning\n",
      "Databaser\n",
      "LIA_1\n",
      "Praktisk_maskininlärning\n",
      "Projektmetodik\n",
      "LIA_2\n",
      "Examensarbete\n",
      "\n",
      "The total scores i need to gain is 130\n"
     ]
    }
   ],
   "metadata": {}
  },
  {
   "cell_type": "markdown",
   "source": [
    "# 2. Dice simulation (*)\r\n",
    "Simulate 1000000 dice rolls and save the number of ones, twos, ..., sixes in a dictionary. Then print them out in the terminal. (*)\r\n",
    "\r\n"
   ],
   "metadata": {}
  },
  {
   "cell_type": "code",
   "execution_count": 94,
   "source": [
    "import random as rnd\r\n",
    "\r\n",
    "rolls= {\"one\":ones,\"two\": twos, \"three\": threes, \"four\": fours, \"five\": fives, \"six\": sixes}\r\n",
    "\r\n",
    "\r\n",
    "dices= [rnd.randint(1,6) for i in range(1000000)]\r\n",
    "\r\n",
    "ones=0\r\n",
    "twos=0\r\n",
    "threes=0\r\n",
    "fours=0\r\n",
    "fives=0\r\n",
    "sixes=0\r\n",
    "\r\n",
    "for dice in dices:\r\n",
    "    if dice == 1:\r\n",
    "        ones+=1\r\n",
    "    if dice == 2:\r\n",
    "        twos+=1\r\n",
    "    if dice == 3:\r\n",
    "        threes+=1\r\n",
    "    if dice == 4:\r\n",
    "        fours+=1\r\n",
    "    if dice == 5:\r\n",
    "        fives+=1\r\n",
    "    if dice == 6:\r\n",
    "        sixes+=1\r\n",
    "\r\n",
    "print(rolls)\r\n",
    "\r\n"
   ],
   "outputs": [
    {
     "output_type": "stream",
     "name": "stdout",
     "text": [
      "{'one': 166326, 'two': 166490, 'three': 167212, 'four': 167201, 'five': 166601, 'six': 166170}\n"
     ]
    }
   ],
   "metadata": {}
  },
  {
   "cell_type": "code",
   "execution_count": 124,
   "source": [
    "import random as rnd\r\n",
    "\r\n",
    "\r\n",
    "rolls = {\"one\": 1, \"two\": 2 ,\"three\": 3,\"four\": 4,\"five\": 5,\"six\": 6}\r\n",
    "# print(rolls)\r\n",
    "\r\n",
    "numbers = [rnd.randint(1,6) for i in range(1000000)]\r\n",
    "\r\n",
    "roll_count = {key: 0 for key in rolls}\r\n",
    "\r\n",
    "for number in numbers:\r\n",
    "    for roll, value in rolls.items():\r\n",
    "        if value <= number < value + 1:\r\n",
    "            roll_count[roll] += 1\r\n",
    "\r\n",
    "print(f\"Rolls count {roll_count}\")"
   ],
   "outputs": [
    {
     "output_type": "stream",
     "name": "stdout",
     "text": [
      "Rolls count {'one': 166064, 'two': 166808, 'three': 166845, 'four': 166161, 'five': 167274, 'six': 166848}\n"
     ]
    }
   ],
   "metadata": {}
  }
 ],
 "metadata": {
  "orig_nbformat": 4,
  "language_info": {
   "name": "python",
   "version": "3.9.6",
   "mimetype": "text/x-python",
   "codemirror_mode": {
    "name": "ipython",
    "version": 3
   },
   "pygments_lexer": "ipython3",
   "nbconvert_exporter": "python",
   "file_extension": ".py"
  },
  "kernelspec": {
   "name": "python3",
   "display_name": "Python 3.9.6 64-bit ('python-programming-Kun-Han-lwkoREgH': virtualenv)"
  },
  "interpreter": {
   "hash": "7565875fc860841d1ac58932c3399b2f9de3300a7321d66f878423c047ece803"
  }
 },
 "nbformat": 4,
 "nbformat_minor": 2
}
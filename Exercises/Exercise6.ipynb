{
 "cells": [
  {
   "cell_type": "markdown",
   "source": [
    "## 1. Area (*)\r\n",
    "Create a function that takes the base and height of a triangle as input parameters and returns the area of the triangle.\r\n",
    "\r\n"
   ],
   "metadata": {}
  },
  {
   "cell_type": "code",
   "execution_count": 1,
   "source": [
    "def area_triangle(base, height):\r\n",
    "    return base*height/2\r\n",
    "\r\n",
    "print(area_triangle(2, 3))"
   ],
   "outputs": [
    {
     "output_type": "stream",
     "name": "stdout",
     "text": [
      "3.0\n"
     ]
    }
   ],
   "metadata": {}
  },
  {
   "cell_type": "markdown",
   "source": [
    "## 2. Euclidean distance (*)\r\n",
    "The formula for Euclidean distance in 2D between $P: (p_1, p_2)$ and $Q: (q_1, q_2)$ is:\r\n",
    "\r\n",
    "$d(P,Q) = \\sqrt{(p_1-q_1)^2 + (p_2-q_2)^2}$\r\n",
    "\r\n",
    "  a)   Create a function that takes two points as input parameters and return the Euclidean between them. (*)\r\n",
    "\r\n",
    "  b)   Let the user input two points. Call the function using the users input points. (*)\r\n",
    "\r\n",
    "  c)   Use your function to calculate distances between the origin (0, 0) and each of these points: (10, 3), (-1, -9), (10, -10), (4, -2), (9, -10). (*)\r\n",
    "\r\n",
    "\r\n"
   ],
   "metadata": {}
  },
  {
   "cell_type": "code",
   "execution_count": 21,
   "source": [
    "\r\n",
    "def euclidean(p_1,p_2,q_1,q_2):\r\n",
    "    return ((p_1-q_1)**2 + (p_2-q_2)**2)**0.5\r\n",
    "\r\n",
    "p_1=int(input(\"P1\"))\r\n",
    "p_2=int(input(\"P2\"))\r\n",
    "q_1=int(input(\"Q1\"))\r\n",
    "q_2=int(input(\"Q2\"))\r\n",
    "\r\n",
    "print(f\"The euclidean distance of two points is: {euclidean(p_1,p_2,q_1,q_2)}\")\r\n",
    "\r\n"
   ],
   "outputs": [
    {
     "output_type": "stream",
     "name": "stdout",
     "text": [
      "The euclidean of two points is: 91.02197536858887\n"
     ]
    }
   ],
   "metadata": {}
  },
  {
   "cell_type": "code",
   "execution_count": 26,
   "source": [
    "def euclidean(p_1,p_2,q_1,q_2):\r\n",
    "    return ((p_1-q_1)**2 + (p_2-q_2)**2)**0.5\r\n",
    "\r\n",
    "p_1=0\r\n",
    "p_2=0\r\n",
    "\r\n",
    "print(f\"The euclidean distance between (0,0) and (10, 3)is: {euclidean(p_1,p_2,10,3)}\")\r\n",
    "print(f\"The euclidean distance between (0,0) and (-1, -9)is: {euclidean(p_1,p_2,-1,-9)}\")\r\n",
    "print(f\"The euclidean distance between (0,0) and (10, -10)is: {euclidean(p_1,p_2,10,-10)}\")\r\n",
    "print(f\"The euclidean distance between (0,0) and (4, -2)is: {euclidean(p_1,p_2,4,-2)}\")\r\n",
    "print(f\"The euclidean distance between (0,0) and (9, -10)is: {euclidean(p_1,p_2,9,-10)}\")\r\n",
    "\r\n"
   ],
   "outputs": [
    {
     "output_type": "stream",
     "name": "stdout",
     "text": [
      "The euclidean distance between (0,0) and (10, 3)is: 10.44030650891055\n",
      "The euclidean distance between (0,0) and (-1, -9)is: 9.055385138137417\n",
      "The euclidean distance between (0,0) and (10, -10)is: 14.142135623730951\n",
      "The euclidean distance between (0,0) and (4, -2)is: 4.47213595499958\n",
      "The euclidean distance between (0,0) and (9, -10)is: 13.45362404707371\n"
     ]
    }
   ],
   "metadata": {}
  },
  {
   "cell_type": "markdown",
   "source": [
    "## 3. Mathematical functions (*)\r\n",
    "Make the following functions with def or lambda and plot their graphs in the same figure window, with $x\\in [-10,10]$ :\r\n",
    "\r\n",
    "  a)   $f(x) = x^2 -3$ (*)\r\n",
    "\r\n",
    "  b)   $g(x) = 4x-7$ (*)\r\n",
    "\r\n",
    "What could the relation between $f(x)$ and $g(x)$ be?"
   ],
   "metadata": {}
  },
  {
   "cell_type": "code",
   "execution_count": 11,
   "source": [
    "import matplotlib.pyplot as plt\r\n",
    "\r\n",
    "def f_x(x, k=1, m=-3):\r\n",
    "    f_x=[k*(x**2)+m for x in range(-10,11)]\r\n",
    "    \r\n",
    "    plt.plot(x,f_x)\r\n",
    "    plt.xlabel(\"x\")\r\n",
    "    plt.ylabel(\"y\")\r\n",
    "\r\n",
    "def g_x(x, k=4, m=-7):\r\n",
    "    g_x=[k*x+m for x in range(-10,11)]\r\n",
    "\r\n",
    "    plt.plot(x,g_x)\r\n",
    "    plt.xlabel(\"x\")\r\n",
    "    plt.ylabel(\"y\")\r\n",
    "    \r\n",
    "x = list(range(-10,11))\r\n",
    "f_x(x, k=1, m=-3)\r\n",
    "g_x(x, k=4, m=-7)\r\n",
    "\r\n",
    "# when x = 2, f(x)=g(x). g(x) is f(x)'s tangent at this point(2,1).\r\n"
   ],
   "outputs": [
    {
     "output_type": "display_data",
     "data": {
      "image/png": "[encoded data removed]",
      "text/plain": [
       "<Figure size 432x288 with 1 Axes>"
      ]
     },
     "metadata": {
      "needs_background": "light"
     }
    }
   ],
   "metadata": {}
  },
  {
   "cell_type": "markdown",
   "source": [
    "#  4. Name cleaner (*)\r\n",
    "Create a function that takes a name as an input and:\r\n",
    "\r\n",
    "- removes all leading and trailing blank spaces\r\n",
    "- make capitalize the first character of each name, and make the rest lowercase\r\n",
    "Use your function on this list of strings:\r\n",
    "\r\n",
    "[\"  MaRcUs \", \" iDA aNderSon\", \"OLOF Olofsson            \"  ]"
   ],
   "metadata": {}
  },
  {
   "cell_type": "code",
   "execution_count": 44,
   "source": [
    "def name_cleaner(names):\r\n",
    "    for name in names:\r\n",
    "        result = name.strip().title()\r\n",
    "        print(result)\r\n",
    "\r\n",
    "names = [\"  MaRcUs \", \" iDA aNderSon\", \"OLOF Olofsson            \"  ]\r\n",
    "name_cleaner(names)"
   ],
   "outputs": [
    {
     "output_type": "stream",
     "name": "stdout",
     "text": [
      "Marcus\n",
      "Ida Anderson\n",
      "Olof Olofsson\n"
     ]
    }
   ],
   "metadata": {}
  },
  {
   "cell_type": "markdown",
   "source": [
    "# 5. Change (**)\r\n",
    "Create a function that takes a value as input parameter and print out the banknotes and coins in Swedish currency representing this value. For example 5289 would give the following printout:\r\n",
    "\r\n",
    "- 5st 1000-lapp\r\n",
    "- 1st 200-lapp\r\n",
    "- 1st 50-lapp\r\n",
    "- 1st 20-lapp\r\n",
    "- 1st 10-krona\r\n",
    "- 1st 5-krona\r\n",
    "- 2st 2-krona\r\n",
    "\r\n",
    "Now let the user input a value, and use the function to calculate the change."
   ],
   "metadata": {}
  },
  {
   "cell_type": "code",
   "execution_count": 53,
   "source": [
    "def change(x):\r\n",
    "    a=x//1000 # how many 1000kr\r\n",
    "    b=(x%1000)//200 # how many 200kr \r\n",
    "    c=((x%1000)%200)//50 # how many 50kr\r\n",
    "    d=(((x%1000)%200)%50)//20 # how many 20kr\r\n",
    "    e=((((x%1000)%200)%50)%20)//10 # how many 10kr\r\n",
    "    f=(((((x%1000)%200)%50)%20)%10)//5 # how many 5kr\r\n",
    "    g=((((((x%1000)%200)%50)%20)%10)%5 )//1 # how many 1kr\r\n",
    "\r\n",
    "    print(f\"{a}st 1000-lapp\\n{b}st 200-lappb\\n{c}st 50-lapp\\n{d}st 20-lapp\\n{e}st 10-lapp\\n{f}st 5-lapp\\n{g}st 1-lapp\\n\")\r\n",
    "\r\n",
    "change(int(input(\"Write down your total money:\")))"
   ],
   "outputs": [
    {
     "output_type": "stream",
     "name": "stdout",
     "text": [
      "2st 1000-lapp\n",
      "1st 200-lappb\n",
      "2st 50-lapp\n",
      "2st 20-lapp\n",
      "0st 10-lapp\n",
      "1st 5-lapp\n",
      "0st 1-lapp\n",
      "\n"
     ]
    }
   ],
   "metadata": {}
  }
 ],
 "metadata": {
  "orig_nbformat": 4,
  "language_info": {
   "name": "python",
   "version": "3.9.6",
   "mimetype": "text/x-python",
   "codemirror_mode": {
    "name": "ipython",
    "version": 3
   },
   "pygments_lexer": "ipython3",
   "nbconvert_exporter": "python",
   "file_extension": ".py"
  },
  "kernelspec": {
   "name": "python3",
   "display_name": "Python 3.9.6 64-bit ('python-programming-Kun-Han-lwkoREgH': virtualenv)"
  },
  "interpreter": {
   "hash": "7565875fc860841d1ac58932c3399b2f9de3300a7321d66f878423c047ece803"
  }
 },
 "nbformat": 4,
 "nbformat_minor": 2
}
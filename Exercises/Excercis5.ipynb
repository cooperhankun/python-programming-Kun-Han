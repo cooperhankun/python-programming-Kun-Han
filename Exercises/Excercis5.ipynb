{
 "cells": [
  {
   "cell_type": "markdown",
   "source": [
    "# 1. Counting letters (*)\r\n",
    "Let the user input a word:\r\n",
    "\r\n",
    "  a)   print out the number of letters in the word. (*)\r\n",
    "\r\n",
    "  b)   print out the number of uppercase and lowercase letters of the word (*)"
   ],
   "metadata": {}
  },
  {
   "cell_type": "code",
   "execution_count": 3,
   "source": [
    "word = input(\"Write a word: \")\r\n",
    "number=len(word)\r\n",
    "print(number)"
   ],
   "outputs": [
    {
     "output_type": "stream",
     "name": "stdout",
     "text": [
      "11\n"
     ]
    }
   ],
   "metadata": {}
  },
  {
   "cell_type": "code",
   "execution_count": 16,
   "source": [
    "word = input(\"Write a word: \")\r\n",
    "upp=0\r\n",
    "low=0\r\n",
    "for i in word:\r\n",
    "    if i.isupper()==True:\r\n",
    "        upp+=1\r\n",
    "    else:\r\n",
    "        low+=1\r\n",
    "        continue\r\n",
    "\r\n",
    "print(word)\r\n",
    "print(f\"The number of uppercase is {upp}. The number of lowercase is {low}\")"
   ],
   "outputs": [
    {
     "output_type": "stream",
     "name": "stdout",
     "text": [
      "asdasdWsd\n",
      "The number of uppercase is 1. The number of lowercase is 8\n"
     ]
    }
   ],
   "metadata": {}
  },
  {
   "cell_type": "markdown",
   "source": [
    "# 2. Counting words (*)\r\n",
    "Count the number of words in this sentence: \"A picture says more than a thousand words, a matematical formula says more than a thousand pictures.\" (*)\r\n",
    "\r\n"
   ],
   "metadata": {}
  },
  {
   "cell_type": "markdown",
   "source": [
    "# 3. Palindrome (*)\r\n",
    "A palindrome is a sequence of characters that is the same, when read forward as backwards (ignoring spaces). For example:\r\n",
    "\r\n",
    "\"Anna\" is a palindrome\r\n",
    "\"Ni talar bra latin\"\r\n",
    "bjkjb\r\n",
    "Let the user input a sequence of characters and check if it is a palindrome. (*)"
   ],
   "metadata": {}
  },
  {
   "cell_type": "markdown",
   "source": [
    "# 4. Vowels (**)\r\n",
    "Count the number of vowels in this sentence: \"Pure mathematics is, in its way, the poetry of logical ideas\""
   ],
   "metadata": {}
  },
  {
   "cell_type": "markdown",
   "source": [
    "# 5. Encryption (**)\r\n",
    "Let the user input a word and:\r\n",
    "\r\n",
    "  a)   encrypt the message by replacing each letter with the next letter. If the letter is in the end of the alphabet, use the first letter instead.\r\n",
    "\r\n",
    "e.g. in Swedish: \"höst\" $\\rightarrow$ \"iatu\"\r\n",
    "\r\n",
    "  b)   decrypt the message\r\n",
    "\r\n",
    "  c)   let the user choose either encryption or decryption."
   ],
   "metadata": {}
  }
 ],
 "metadata": {
  "orig_nbformat": 4,
  "language_info": {
   "name": "python",
   "version": "3.9.6",
   "mimetype": "text/x-python",
   "codemirror_mode": {
    "name": "ipython",
    "version": 3
   },
   "pygments_lexer": "ipython3",
   "nbconvert_exporter": "python",
   "file_extension": ".py"
  },
  "kernelspec": {
   "name": "python3",
   "display_name": "Python 3.9.6 64-bit"
  },
  "interpreter": {
   "hash": "ded964624c0da0089d9183eb236546880599c5ca771d587a021b71135ab6c6eb"
  }
 },
 "nbformat": 4,
 "nbformat_minor": 2
}
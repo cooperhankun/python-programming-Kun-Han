{
 "cells": [
  {
   "cell_type": "markdown",
   "source": [
    "#  1. Video"
   ],
   "metadata": {}
  },
  {
   "cell_type": "code",
   "execution_count": 6,
   "source": [
    "class Video:\r\n",
    "\r\n",
    "    def __init__(self, title:str, genre:str, rating:float) -> None:\r\n",
    "        self.title = title\r\n",
    "        self.genre = genre\r\n",
    "        self.rating = rating\r\n",
    "    \r\n",
    "    def __info__ (self) -> str:\r\n",
    "        return f\"Video with title {self.title}, genre {self.genre}, rating {self.rating}\"\r\n",
    "\r\n",
    "\r\n",
    "\r\n",
    "class Tv_serie(Video):\r\n",
    "\r\n",
    "    def __init__(self, title:str, genre:str, rating:float, num_episodes:int) -> None:\r\n",
    "        self.title = title\r\n",
    "        self.genre = genre\r\n",
    "        self.rating = rating\r\n",
    "        self.num_episodes = num_episodes\r\n",
    "\r\n",
    "    def __info__(self) -> str:\r\n",
    "        return f\"TV series with title {self.title}, genre {self.genre}, rating {self.rating} and episodes {self.num_episodes}\"\r\n",
    "\r\n",
    "\r\n",
    "class Movie(Video):\r\n",
    "\r\n",
    "    def __init__(self, title:str, genre:str, rating:float, duration:float) -> None:\r\n",
    "        self.title = title\r\n",
    "        self.genre = genre\r\n",
    "        self.rating = rating\r\n",
    "        self.duration = duration\r\n",
    "\r\n",
    "    def __info__(self) -> str:\r\n",
    "        return f\"TV series with title {self.title}, genre {self.genre}, rating {self.rating} and duration {self.duration} minutes\"\r\n",
    "\r\n",
    "class Documentary(Video):\r\n",
    "\r\n",
    "    def __init__(self, title:str, genre:str, rating:float) -> None:\r\n",
    "        self.title = title\r\n",
    "        self.genre = genre\r\n",
    "        self.rating = rating\r\n",
    "        \r\n",
    "\r\n",
    "pokemon = Tv_serie(\"Pokemon\", \"Cartoon\", 4.5, 550)\r\n",
    "titanic = Movie(\"Titanic\", \"Romance\", 4.7, 194)\r\n",
    "code = Documentary(\"The Code\", \"Math\", 4)\r\n",
    "\r\n",
    "for video in tuple((pokemon, titanic, code)):\r\n",
    "    print(video.__info__())\r\n",
    "    "
   ],
   "outputs": [
    {
     "output_type": "stream",
     "name": "stdout",
     "text": [
      "TV series with title Pokemon, genre Cartoon, rating 4.5 and episodes 550\n",
      "TV series with title Titanic, genre Romance, rating 4.7 and duration 194 minutes\n",
      "Video with title The Code, genre Math, rating 4\n"
     ]
    }
   ],
   "metadata": {}
  },
  {
   "cell_type": "markdown",
   "source": [
    "# 2. Fraction"
   ],
   "metadata": {}
  },
  {
   "cell_type": "code",
   "execution_count": null,
   "source": [],
   "outputs": [],
   "metadata": {}
  }
 ],
 "metadata": {
  "orig_nbformat": 4,
  "language_info": {
   "name": "python",
   "version": "3.9.6",
   "mimetype": "text/x-python",
   "codemirror_mode": {
    "name": "ipython",
    "version": 3
   },
   "pygments_lexer": "ipython3",
   "nbconvert_exporter": "python",
   "file_extension": ".py"
  },
  "kernelspec": {
   "name": "python3",
   "display_name": "Python 3.9.6 64-bit ('python-programming-Kun-Han-lwkoREgH': virtualenv)"
  },
  "interpreter": {
   "hash": "7565875fc860841d1ac58932c3399b2f9de3300a7321d66f878423c047ece803"
  }
 },
 "nbformat": 4,
 "nbformat_minor": 2
}
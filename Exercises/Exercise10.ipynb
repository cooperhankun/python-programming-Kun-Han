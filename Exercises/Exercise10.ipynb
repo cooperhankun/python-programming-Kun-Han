{
 "cells": [
  {
   "cell_type": "markdown",
   "source": [
    "# 1. Unit conversion (*)\r\n",
    "Create a class for converting US units to the metric system. It should have the following bound methods:\r\n",
    "\r\n",
    "__init__ (self, value)\r\n",
    "\r\n",
    "inch_to_cm(self)\r\n",
    "\r\n",
    "foot_to_meters(self)\r\n",
    "\r\n",
    "pound_to_kg(self)\r\n",
    "\r\n",
    "__repr__(self)\r\n",
    "Make sure that value is the correct type and format, raise suitable exceptions in case it isn't. Make value into property with getter and setter. Test your class manually by instantiating an object from it and test different methods. (*)"
   ],
   "metadata": {}
  },
  {
   "cell_type": "code",
   "execution_count": 2,
   "source": [
    "class Conversion:\r\n",
    "\r\n",
    "    def __init__(self, value) -> None:\r\n",
    "        self.value = value\r\n",
    "\r\n",
    "    def inch_to_cm(self) -> float:\r\n",
    "        self.inch_to_cm = self.value*2.54\r\n",
    "        return self.inch_to_cm\r\n",
    "\r\n",
    "    def foot_to_meters(self) -> float:\r\n",
    "        self.foot_to_meters = self.value*0.3048\r\n",
    "        return self.foot_to_meters\r\n",
    "\r\n",
    "    def pound_to_kg(self) -> float:\r\n",
    "        self.pound_to_kg = self.value*0.4536\r\n",
    "        return self.pound_to_kg\r\n",
    "    \r\n",
    "    def __repr__(self) -> str:\r\n",
    "        return f\"This is a conversion class.\"\r\n",
    "    \r\n",
    "    @property \r\n",
    "    def value(self) -> float:\r\n",
    "        return self._value\r\n",
    "\r\n",
    "    @value.setter\r\n",
    "    def value(self, value_new: float) -> None:\r\n",
    "        if not isinstance(value_new, (int,float)):\r\n",
    "            raise TypeError(f\"Value must an int or flaot, not{type(value_new)}\")\r\n",
    "\r\n",
    "        self._value = value_new\r\n",
    "    \r\n",
    "Conversion1 = Conversion(99)\r\n",
    "print(f\"99 foot is {Conversion1.foot_to_meters()} meters\")\r\n",
    "\r\n",
    "try:\r\n",
    "    Conversion1 = Conversion (\"asa\") \r\n",
    "except TypeError as err:\r\n",
    "    print(err)\r\n",
    "print()\r\n",
    "\r\n",
    "print(Conversion1)\r\n",
    "\r\n",
    "    \r\n",
    "    "
   ],
   "outputs": [
    {
     "output_type": "stream",
     "name": "stdout",
     "text": [
      "99 foot is 30.1752 meters\n",
      "Value must an int or flaot, not<class 'str'>\n",
      "\n",
      "This is a conversion class.\n"
     ]
    }
   ],
   "metadata": {}
  },
  {
   "cell_type": "markdown",
   "source": [
    "# 2. Person (*)\r\n",
    "Create a class named Person, with parameterized constructor with the following parameters:\r\n",
    "\r\n",
    "- name\r\n",
    "- age\r\n",
    "- email\r\n",
    "\r\n",
    "Turn name, age, email into properties with following validations in their setters:\r\n",
    "\r\n",
    "- name - must be string\r\n",
    "- age - must be number between 0 and 125\r\n",
    "- email - must include an @ sign\r\n",
    "It should also have __repr__ method to represent the Person class in a neat way.\r\n",
    "\r\n",
    "Also create a method say_hello() that prints\r\n",
    "\r\n",
    "Hi, my name is ..., I am ... years old, my email address is ..."
   ],
   "metadata": {}
  },
  {
   "cell_type": "code",
   "execution_count": 2,
   "source": [
    "class Person:\r\n",
    "    def __init__(self, name, age, email) -> None:\r\n",
    "        self.name = name\r\n",
    "        self.age = age\r\n",
    "        self.email = email\r\n",
    "        \r\n",
    "    @property \r\n",
    "    def name(self) -> str:\r\n",
    "        return self._name\r\n",
    "\r\n",
    "    @name.setter\r\n",
    "    def name(self, words: str) -> None:\r\n",
    "        if not isinstance(words, str):\r\n",
    "            raise TypeError(f\"Name must an string, not{type(words)}\")\r\n",
    "\r\n",
    "        self._name = words\r\n",
    "\r\n",
    "    @property \r\n",
    "    def age(self) -> float:\r\n",
    "        return self._age\r\n",
    "\r\n",
    "    @age.setter\r\n",
    "    def age(self, value: float) -> None:\r\n",
    "        if not isinstance(value, (int, float)):\r\n",
    "            raise TypeError(f\"Age must an float or int, not{type(value)}\")\r\n",
    "        if not (0 <= value <= 125):\r\n",
    "            raise ValueError(\"Your age must between 0 and 125\")\r\n",
    "        \r\n",
    "        self._age = value\r\n",
    "\r\n",
    "    @property \r\n",
    "    def email(self) -> str:\r\n",
    "        return self.email\r\n",
    "\r\n",
    "    @email.setter\r\n",
    "    def email(self, adress: str) -> None:\r\n",
    "        if not isinstance(adress, str):\r\n",
    "            raise TypeError(f\"Email must an string, not{type(adress)}\")\r\n",
    "            \r\n",
    "        if \"@\" not in adress:\r\n",
    "                raise ValueError(\"Email must includ a @\")\r\n",
    "        \r\n",
    "        self._age = adress\r\n",
    "\r\n",
    "    def __repr__(self) -> str:\r\n",
    "        return f\"This is contact list.\"\r\n",
    "\r\n",
    "    def say_hello(self) -> str:\r\n",
    "        return f\"Hi, my name is {self._name}, I am {self.age} years old, my email address is {self.email}\"\r\n",
    "\r\n",
    "\r\n",
    "p1 = Person(\"Kun\", 30, \"hk@mm.com\")\r\n",
    "print(p1)\r\n",
    "\r\n",
    "\r\n",
    "\r\n",
    "\r\n"
   ],
   "outputs": [
    {
     "output_type": "stream",
     "name": "stdout",
     "text": [
      "This is contact list.\n"
     ]
    }
   ],
   "metadata": {}
  },
  {
   "cell_type": "code",
   "execution_count": null,
   "source": [],
   "outputs": [],
   "metadata": {}
  }
 ],
 "metadata": {
  "orig_nbformat": 4,
  "language_info": {
   "name": "python",
   "version": "3.9.6",
   "mimetype": "text/x-python",
   "codemirror_mode": {
    "name": "ipython",
    "version": 3
   },
   "pygments_lexer": "ipython3",
   "nbconvert_exporter": "python",
   "file_extension": ".py"
  },
  "kernelspec": {
   "name": "python3",
   "display_name": "Python 3.9.6 64-bit ('python-programming-Kun-Han-lwkoREgH': virtualenv)"
  },
  "interpreter": {
   "hash": "7565875fc860841d1ac58932c3399b2f9de3300a7321d66f878423c047ece803"
  }
 },
 "nbformat": 4,
 "nbformat_minor": 2
}
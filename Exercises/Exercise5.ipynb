{
 "cells": [
  {
   "cell_type": "markdown",
   "source": [
    "# 1. Counting letters (*)\r\n",
    "Let the user input a word:\r\n",
    "\r\n",
    "  a)   print out the number of letters in the word. (*)\r\n",
    "\r\n",
    "  b)   print out the number of uppercase and lowercase letters of the word (*)"
   ],
   "metadata": {}
  },
  {
   "cell_type": "code",
   "execution_count": 3,
   "source": [
    "word = input(\"Write a word: \")\r\n",
    "number=len(word)\r\n",
    "print(number)"
   ],
   "outputs": [
    {
     "output_type": "stream",
     "name": "stdout",
     "text": [
      "11\n"
     ]
    }
   ],
   "metadata": {}
  },
  {
   "cell_type": "code",
   "execution_count": 17,
   "source": [
    "word = input(\"Write a word: \")\r\n",
    "upp=0\r\n",
    "low=0\r\n",
    "for i in word:\r\n",
    "    if i.isupper()==True:\r\n",
    "        upp+=1\r\n",
    "    else:\r\n",
    "        low+=1\r\n",
    "        continue\r\n",
    "\r\n",
    "print(word)\r\n",
    "print(f\"The number of uppercase is {upp}. The number of lowercase is {low}\")"
   ],
   "outputs": [
    {
     "output_type": "stream",
     "name": "stdout",
     "text": [
      "helloWOrld\n",
      "The number of uppercase is 2. The number of lowercase is 8\n"
     ]
    }
   ],
   "metadata": {}
  },
  {
   "cell_type": "markdown",
   "source": [
    "# 2. Counting words (*)\r\n",
    "Count the number of words in this sentence: \"A picture says more than a thousand words, a matematical formula says more than a thousand pictures.\" (*)\r\n",
    "\r\n"
   ],
   "metadata": {}
  },
  {
   "cell_type": "code",
   "execution_count": 18,
   "source": [
    "sentence=\"A picture says more than a thousand words, a matematical formula says more than a thousand pictures\"\r\n",
    "number=len(sentence)\r\n",
    "print(number)"
   ],
   "outputs": [
    {
     "output_type": "stream",
     "name": "stdout",
     "text": [
      "99\n"
     ]
    }
   ],
   "metadata": {}
  },
  {
   "cell_type": "markdown",
   "source": [
    "# 3. Palindrome (*)\r\n",
    "A palindrome is a sequence of characters that is the same, when read forward as backwards (ignoring spaces). For example:\r\n",
    "\r\n",
    "-\"Anna\" is a palindrome\r\n",
    "\r\n",
    "-\"Ni talar bra latin\"\r\n",
    "\r\n",
    "-bjkjb\r\n",
    "\r\n",
    "Let the user input a sequence of characters and check if it is a palindrome. (*)"
   ],
   "metadata": {}
  },
  {
   "cell_type": "code",
   "execution_count": 34,
   "source": [
    "words=input(\"Type a sequence:\")\r\n",
    "if words==words[::-1]:\r\n",
    "    print(\"This is a palindrome!\")\r\n",
    "else:\r\n",
    "    print(\"This is not a palindrome!\")"
   ],
   "outputs": [
    {
     "output_type": "stream",
     "name": "stdout",
     "text": [
      "This is a palindrome!\n"
     ]
    }
   ],
   "metadata": {}
  },
  {
   "cell_type": "markdown",
   "source": [
    "# 4. Vowels (**)\r\n",
    "Count the number of vowels in this sentence: \"Pure mathematics is, in its way, the poetry of logical ideas\""
   ],
   "metadata": {}
  },
  {
   "cell_type": "code",
   "execution_count": 36,
   "source": [
    "sentence2=\"Pure mathematics is, in its way, the poetry of logical ideas\"\r\n",
    "count=0\r\n",
    "for word in sentence2:\r\n",
    "    if word==\"a\" or word==\"e\" or word==\"i\" or word==\"o\" or word==\"u\":\r\n",
    "        count+=1\r\n",
    "print(count)"
   ],
   "outputs": [
    {
     "output_type": "stream",
     "name": "stdout",
     "text": [
      "20\n"
     ]
    }
   ],
   "metadata": {}
  },
  {
   "cell_type": "markdown",
   "source": [
    "# 5. Encryption (**)\r\n",
    "Let the user input a word and:\r\n",
    "\r\n",
    "  a)   encrypt the message by replacing each letter with the next letter. If the letter is in the end of the alphabet, use the first letter instead.\r\n",
    "\r\n",
    "e.g. in Swedish: \"höst\" $\\rightarrow$ \"iatu\"\r\n",
    "\r\n",
    "  b)   decrypt the message\r\n",
    "\r\n",
    "  c)   let the user choose either encryption or decryption."
   ],
   "metadata": {}
  },
  {
   "cell_type": "code",
   "execution_count": 42,
   "source": [
    "import re\r\n",
    "words=input(\"Type your words: \")\r\n",
    "re.sub('[a-z]',lambda x:chr(ord(x.group(0))+1),words)\r\n"
   ],
   "outputs": [
    {
     "output_type": "execute_result",
     "data": {
      "text/plain": [
       "'btbte'"
      ]
     },
     "metadata": {},
     "execution_count": 42
    }
   ],
   "metadata": {}
  }
 ],
 "metadata": {
  "orig_nbformat": 4,
  "language_info": {
   "name": "python",
   "version": "3.9.6",
   "mimetype": "text/x-python",
   "codemirror_mode": {
    "name": "ipython",
    "version": 3
   },
   "pygments_lexer": "ipython3",
   "nbconvert_exporter": "python",
   "file_extension": ".py"
  },
  "kernelspec": {
   "name": "python3",
   "display_name": "Python 3.9.6 64-bit"
  },
  "interpreter": {
   "hash": "ded964624c0da0089d9183eb236546880599c5ca771d587a021b71135ab6c6eb"
  }
 },
 "nbformat": 4,
 "nbformat_minor": 2
}
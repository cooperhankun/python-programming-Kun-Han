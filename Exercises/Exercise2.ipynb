{
 "cells": [
  {
   "cell_type": "markdown",
   "source": [],
   "metadata": {}
  },
  {
   "cell_type": "markdown",
   "source": [
    "# 1. Count numbers"
   ],
   "metadata": {}
  },
  {
   "cell_type": "code",
   "execution_count": 60,
   "source": [
    "n=-10\r\n",
    "while n<=10:\r\n",
    "    print (n,end=\", \")\r\n",
    "    n += 1"
   ],
   "outputs": [
    {
     "output_type": "stream",
     "name": "stdout",
     "text": [
      "-10, -9, -8, -7, -6, -5, -4, -3, -2, -1, 0, 1, 2, 3, 4, 5, 6, 7, 8, 9, 10, "
     ]
    }
   ],
   "metadata": {}
  },
  {
   "cell_type": "markdown",
   "source": [
    "# 2. Arithmetic sum"
   ],
   "metadata": {}
  },
  {
   "cell_type": "markdown",
   "source": [
    "a"
   ],
   "metadata": {}
  },
  {
   "cell_type": "code",
   "execution_count": 61,
   "source": [
    "n=1\r\n",
    "summa=0\r\n",
    "while n<=100:\r\n",
    "    if n==100:\r\n",
    "        print(f\"100=\",end=\"\")\r\n",
    "    else:\r\n",
    "        print(f\"{n}+\",end=\"\")\r\n",
    "    summa += n\r\n",
    "    n+=1\r\n",
    "print(summa)"
   ],
   "outputs": [
    {
     "output_type": "stream",
     "name": "stdout",
     "text": [
      "1+2+3+4+5+6+7+8+9+10+11+12+13+14+15+16+17+18+19+20+21+22+23+24+25+26+27+28+29+30+31+32+33+34+35+36+37+38+39+40+41+42+43+44+45+46+47+48+49+50+51+52+53+54+55+56+57+58+59+60+61+62+63+64+65+66+67+68+69+70+71+72+73+74+75+76+77+78+79+80+81+82+83+84+85+86+87+88+89+90+91+92+93+94+95+96+97+98+99+100=5050\n"
     ]
    }
   ],
   "metadata": {}
  },
  {
   "cell_type": "markdown",
   "source": [
    "b"
   ],
   "metadata": {}
  },
  {
   "cell_type": "code",
   "execution_count": 62,
   "source": [
    "n=1\r\n",
    "summa=0\r\n",
    "while n<=99:\r\n",
    "    if n==99:\r\n",
    "        print(f\"99=\",end=\"\")\r\n",
    "    else:\r\n",
    "        print(f\"{n}+\",end=\"\")\r\n",
    "    summa += n\r\n",
    "    n+=1\r\n",
    "print(summa)"
   ],
   "outputs": [
    {
     "output_type": "stream",
     "name": "stdout",
     "text": [
      "1+2+3+4+5+6+7+8+9+10+11+12+13+14+15+16+17+18+19+20+21+22+23+24+25+26+27+28+29+30+31+32+33+34+35+36+37+38+39+40+41+42+43+44+45+46+47+48+49+50+51+52+53+54+55+56+57+58+59+60+61+62+63+64+65+66+67+68+69+70+71+72+73+74+75+76+77+78+79+80+81+82+83+84+85+86+87+88+89+90+91+92+93+94+95+96+97+98+99=4950\n"
     ]
    }
   ],
   "metadata": {}
  },
  {
   "cell_type": "markdown",
   "source": [
    "# 3. Guess number game"
   ],
   "metadata": {}
  },
  {
   "cell_type": "markdown",
   "source": [
    "a."
   ],
   "metadata": {}
  },
  {
   "cell_type": "code",
   "execution_count": 19,
   "source": [
    "import random as rnd\r\n",
    "rnd.seed(66) \r\n",
    "n=rnd.randint(0,100)\r\n",
    "print(n)\r\n",
    "\r\n",
    "while True:\r\n",
    "\r\n",
    "  guess=int(input(\"Guess a number 1 - 100\"))\r\n",
    "  \r\n",
    "  if guess == n:\r\n",
    "    print(\"Right!\")\r\n",
    "    break\r\n",
    "\r\n",
    "  if guess > n:\r\n",
    "      print (\"Wrong! You guessed too high\")\r\n",
    "  if guess < n:\r\n",
    "      print (\"Wrong! You guessed too low\")\r\n"
   ],
   "outputs": [
    {
     "output_type": "stream",
     "name": "stdout",
     "text": [
      "9\n",
      "Wrong! You guessed too high\n",
      "Wrong! You guessed too high\n",
      "Wrong! You guessed too high\n",
      "Wrong! You guessed too low\n",
      "Wrong! You guessed too low\n",
      "Wrong! You guessed too low\n",
      "Wrong! You guessed too low\n",
      "Wrong! You guessed too low\n",
      "Wrong! You guessed too low\n",
      "Wrong! You guessed too low\n",
      "Wrong! You guessed too low\n",
      "Right!\n"
     ]
    }
   ],
   "metadata": {}
  },
  {
   "cell_type": "markdown",
   "source": [
    "b."
   ],
   "metadata": {}
  },
  {
   "cell_type": "code",
   "execution_count": 54,
   "source": [
    "import random as rnd\r\n",
    "n=rnd.randrange(0,100)\r\n",
    "times=0\r\n",
    "print(n)\r\n",
    "guess=int(input(\"write a number\"))\r\n",
    "\r\n",
    "while True:\r\n",
    "    \r\n",
    "    times+=1\r\n",
    "    if n==guess:\r\n",
    "        print(\"good job\")\r\n",
    "        break\r\n",
    "    else:\r\n",
    "        if guess > n:\r\n",
    "            guess-=1\r\n",
    "        else:\r\n",
    "            guess+=1\r\n",
    "            \r\n",
    "print(f\"You worked for {times} times for a right answer!\")\r\n"
   ],
   "outputs": [
    {
     "output_type": "stream",
     "name": "stdout",
     "text": [
      "91\n",
      "good job\n",
      "You worked for 59 times for a right answer!\n"
     ]
    }
   ],
   "metadata": {}
  },
  {
   "cell_type": "markdown",
   "source": [
    "# 4. Multiplication game"
   ],
   "metadata": {}
  },
  {
   "cell_type": "code",
   "execution_count": 65,
   "source": [
    "import random as rnd\r\n",
    "\r\n",
    "\r\n",
    "while True:\r\n",
    "    x = rnd.randrange(1,10)\r\n",
    "    y = rnd.randrange(1,10)\r\n",
    "    user_answer = int(input(f\"What is {x}*{y}? \"))\r\n",
    "\r\n",
    "    multiplication = x*y\r\n",
    "    \r\n",
    "    if user_answer == multiplication:\r\n",
    "        print(\"Good work\")\r\n",
    "    else:1\r\n",
    "    \r\n",
    "    print(f\"No, the correct answer is {multiplication}\")\r\n",
    "\r\n",
    "    play_again = input(\"Will you play again (y for yes)?\")\r\n",
    "\r\n",
    "    if play_again != \"y\":\r\n",
    "        print(\"Thank you! The game ends\")\r\n",
    "        break"
   ],
   "outputs": [
    {
     "output_type": "stream",
     "name": "stdout",
     "text": [
      "No, the correct answer is 20\n",
      "Thank you! The game ends\n"
     ]
    }
   ],
   "metadata": {}
  },
  {
   "cell_type": "code",
   "execution_count": 13,
   "source": [
    "import random as rnd\r\n",
    "\r\n",
    "while True: \r\n",
    "    x=rnd.randint(1,10)\r\n",
    "    y=rnd.randint(1,10)\r\n",
    "    print(x,y)\r\n",
    "    print(x*y)\r\n",
    "    \r\n",
    "    n=int(input(\"write the answer of x*y: \"))\r\n",
    "\r\n",
    "if n==(x*y):\r\n",
    "    print(\"Good work\")\r\n",
    "else:\r\n",
    "    print(input(\"write out the answer:\"))\r\n",
    "\r\n"
   ],
   "outputs": [
    {
     "output_type": "stream",
     "name": "stdout",
     "text": [
      "5 3\n",
      "15\n"
     ]
    },
    {
     "output_type": "error",
     "ename": "ValueError",
     "evalue": "invalid literal for int() with base 10: ''",
     "traceback": [
      "\u001b[1;31m---------------------------------------------------------------------------\u001b[0m",
      "\u001b[1;31mValueError\u001b[0m                                Traceback (most recent call last)",
      "\u001b[1;32m~\\AppData\\Local\\Temp/ipykernel_3408/3198887859.py\u001b[0m in \u001b[0;36m<module>\u001b[1;34m\u001b[0m\n\u001b[0;32m      7\u001b[0m     \u001b[0mprint\u001b[0m\u001b[1;33m(\u001b[0m\u001b[0mx\u001b[0m\u001b[1;33m*\u001b[0m\u001b[0my\u001b[0m\u001b[1;33m)\u001b[0m\u001b[1;33m\u001b[0m\u001b[1;33m\u001b[0m\u001b[0m\n\u001b[0;32m      8\u001b[0m \u001b[1;33m\u001b[0m\u001b[0m\n\u001b[1;32m----> 9\u001b[1;33m     \u001b[0mn\u001b[0m\u001b[1;33m=\u001b[0m\u001b[0mint\u001b[0m\u001b[1;33m(\u001b[0m\u001b[0minput\u001b[0m\u001b[1;33m(\u001b[0m\u001b[1;34m\"write the answer of x*y: \"\u001b[0m\u001b[1;33m)\u001b[0m\u001b[1;33m)\u001b[0m\u001b[1;33m\u001b[0m\u001b[1;33m\u001b[0m\u001b[0m\n\u001b[0m\u001b[0;32m     10\u001b[0m \u001b[1;33m\u001b[0m\u001b[0m\n\u001b[0;32m     11\u001b[0m \u001b[1;32mif\u001b[0m \u001b[0mn\u001b[0m\u001b[1;33m==\u001b[0m\u001b[1;33m(\u001b[0m\u001b[0mx\u001b[0m\u001b[1;33m*\u001b[0m\u001b[0my\u001b[0m\u001b[1;33m)\u001b[0m\u001b[1;33m:\u001b[0m\u001b[1;33m\u001b[0m\u001b[1;33m\u001b[0m\u001b[0m\n",
      "\u001b[1;31mValueError\u001b[0m: invalid literal for int() with base 10: ''"
     ]
    }
   ],
   "metadata": {}
  },
  {
   "cell_type": "markdown",
   "source": [
    "# 5. Check convergence"
   ],
   "metadata": {}
  },
  {
   "cell_type": "markdown",
   "source": [
    "a"
   ],
   "metadata": {}
  },
  {
   "cell_type": "code",
   "execution_count": 71,
   "source": [
    "n=int(input(\"type a number:\"))\r\n",
    "\r\n",
    "summa=0\r\n",
    "m=0\r\n",
    "\r\n",
    "while m<=n:\r\n",
    "    summa = summa + 1/2**m\r\n",
    "    m+=1\r\n",
    "    \r\n",
    "print(summa)"
   ],
   "outputs": [
    {
     "output_type": "stream",
     "name": "stdout",
     "text": [
      "1.0\n"
     ]
    }
   ],
   "metadata": {}
  },
  {
   "cell_type": "markdown",
   "source": [
    "b"
   ],
   "metadata": {}
  },
  {
   "cell_type": "code",
   "execution_count": 73,
   "source": [
    "n=int(input(\"type a number:\"))\r\n",
    "\r\n",
    "summa=0\r\n",
    "m=0\r\n",
    "\r\n",
    "while m<=n:\r\n",
    "    summa = summa + ((-1)**m)/(2*m+1)\r\n",
    "    m+=1\r\n",
    "    \r\n",
    "print(summa)"
   ],
   "outputs": [
    {
     "output_type": "stream",
     "name": "stdout",
     "text": [
      "0.8666666666666667\n"
     ]
    }
   ],
   "metadata": {}
  }
 ],
 "metadata": {
  "orig_nbformat": 4,
  "language_info": {
   "name": "python",
   "version": "3.9.6",
   "mimetype": "text/x-python",
   "codemirror_mode": {
    "name": "ipython",
    "version": 3
   },
   "pygments_lexer": "ipython3",
   "nbconvert_exporter": "python",
   "file_extension": ".py"
  },
  "kernelspec": {
   "name": "python3",
   "display_name": "Python 3.9.6 64-bit"
  },
  "interpreter": {
   "hash": "ded964624c0da0089d9183eb236546880599c5ca771d587a021b71135ab6c6eb"
  }
 },
 "nbformat": 4,
 "nbformat_minor": 2
}
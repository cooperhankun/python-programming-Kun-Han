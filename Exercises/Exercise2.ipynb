{
 "cells": [
  {
   "cell_type": "markdown",
   "source": [],
   "metadata": {}
  },
  {
   "cell_type": "markdown",
   "source": [
    "# 1. Count numbers"
   ],
   "metadata": {}
  },
  {
   "cell_type": "code",
   "execution_count": 60,
   "source": [
    "n=-10\r\n",
    "while n<=10:\r\n",
    "    print (n,end=\", \")\r\n",
    "    n += 1"
   ],
   "outputs": [
    {
     "output_type": "stream",
     "name": "stdout",
     "text": [
      "-10, -9, -8, -7, -6, -5, -4, -3, -2, -1, 0, 1, 2, 3, 4, 5, 6, 7, 8, 9, 10, "
     ]
    }
   ],
   "metadata": {}
  },
  {
   "cell_type": "markdown",
   "source": [
    "# 2. Arithmetic sum"
   ],
   "metadata": {}
  },
  {
   "cell_type": "markdown",
   "source": [
    "a"
   ],
   "metadata": {}
  },
  {
   "cell_type": "code",
   "execution_count": 61,
   "source": [
    "n=1\r\n",
    "summa=0\r\n",
    "while n<=100:\r\n",
    "    if n==100:\r\n",
    "        print(f\"100=\",end=\"\")\r\n",
    "    else:\r\n",
    "        print(f\"{n}+\",end=\"\")\r\n",
    "    summa += n\r\n",
    "    n+=1\r\n",
    "print(summa)"
   ],
   "outputs": [
    {
     "output_type": "stream",
     "name": "stdout",
     "text": [
      "1+2+3+4+5+6+7+8+9+10+11+12+13+14+15+16+17+18+19+20+21+22+23+24+25+26+27+28+29+30+31+32+33+34+35+36+37+38+39+40+41+42+43+44+45+46+47+48+49+50+51+52+53+54+55+56+57+58+59+60+61+62+63+64+65+66+67+68+69+70+71+72+73+74+75+76+77+78+79+80+81+82+83+84+85+86+87+88+89+90+91+92+93+94+95+96+97+98+99+100=5050\n"
     ]
    }
   ],
   "metadata": {}
  },
  {
   "cell_type": "markdown",
   "source": [
    "b"
   ],
   "metadata": {}
  },
  {
   "cell_type": "code",
   "execution_count": 62,
   "source": [
    "n=1\r\n",
    "summa=0\r\n",
    "while n<=99:\r\n",
    "    if n==99:\r\n",
    "        print(f\"99=\",end=\"\")\r\n",
    "    else:\r\n",
    "        print(f\"{n}+\",end=\"\")\r\n",
    "    summa += n\r\n",
    "    n+=1\r\n",
    "print(summa)"
   ],
   "outputs": [
    {
     "output_type": "stream",
     "name": "stdout",
     "text": [
      "1+2+3+4+5+6+7+8+9+10+11+12+13+14+15+16+17+18+19+20+21+22+23+24+25+26+27+28+29+30+31+32+33+34+35+36+37+38+39+40+41+42+43+44+45+46+47+48+49+50+51+52+53+54+55+56+57+58+59+60+61+62+63+64+65+66+67+68+69+70+71+72+73+74+75+76+77+78+79+80+81+82+83+84+85+86+87+88+89+90+91+92+93+94+95+96+97+98+99=4950\n"
     ]
    }
   ],
   "metadata": {}
  },
  {
   "cell_type": "markdown",
   "source": [
    "# 3. Guess number game"
   ],
   "metadata": {}
  },
  {
   "cell_type": "markdown",
   "source": [
    "a."
   ],
   "metadata": {}
  },
  {
   "cell_type": "code",
   "execution_count": 116,
   "source": [
    "import random as rnd\r\n",
    "rnd.seed(99) \r\n",
    "n=rnd.randint(0,100)\r\n",
    "print(n)\r\n",
    "\r\n",
    "guess=int(input(\"Guess a number 1 - 100\"))\r\n",
    "if guess == n:\r\n",
    "    print(\"Right!\")\r\n",
    "while guess != n:\r\n",
    "    guess = int(input(\"Guess another number:\"))\r\n",
    "    if guess == n: \r\n",
    "      print (\"Congratulations\")\r\n",
    "    if guess > n:\r\n",
    "      print (\"Wrong! You guessed too high\")\r\n",
    "    if guess < n:\r\n",
    "      print (\"Wrong! You guessed too low\")\r\n"
   ],
   "outputs": [
    {
     "output_type": "stream",
     "name": "stdout",
     "text": [
      "51\n",
      "Right!\n"
     ]
    }
   ],
   "metadata": {}
  },
  {
   "cell_type": "markdown",
   "source": [
    "b."
   ],
   "metadata": {}
  },
  {
   "cell_type": "code",
   "execution_count": null,
   "source": [],
   "outputs": [],
   "metadata": {}
  },
  {
   "cell_type": "markdown",
   "source": [
    "# 4. Multiplication game"
   ],
   "metadata": {}
  },
  {
   "cell_type": "code",
   "execution_count": 114,
   "source": [
    "import random as rnd\r\n",
    "rnd.seed(22) \r\n",
    "x=rnd.randint(1,10)\r\n",
    "y=rnd.randint(1,10)\r\n",
    "print(x,y)\r\n",
    "print(x*y)\r\n",
    "\r\n",
    "n=int(input(\"write the answer of x*y: \"))\r\n",
    "\r\n",
    "if n==(x*y):\r\n",
    "    print(\"Good work\")\r\n",
    "else:\r\n",
    "    input(\"write out the answer:\")\r\n",
    "\r\n"
   ],
   "outputs": [
    {
     "output_type": "stream",
     "name": "stdout",
     "text": [
      "3 4\n",
      "12\n"
     ]
    }
   ],
   "metadata": {}
  }
 ],
 "metadata": {
  "orig_nbformat": 4,
  "language_info": {
   "name": "python",
   "version": "3.9.6",
   "mimetype": "text/x-python",
   "codemirror_mode": {
    "name": "ipython",
    "version": 3
   },
   "pygments_lexer": "ipython3",
   "nbconvert_exporter": "python",
   "file_extension": ".py"
  },
  "kernelspec": {
   "name": "python3",
   "display_name": "Python 3.9.6 64-bit"
  },
  "interpreter": {
   "hash": "ded964624c0da0089d9183eb236546880599c5ca771d587a021b71135ab6c6eb"
  }
 },
 "nbformat": 4,
 "nbformat_minor": 2
}
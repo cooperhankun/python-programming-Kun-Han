{
 "cells": [
  {
   "cell_type": "markdown",
   "source": [
    "# 1. Pythagorean theorem"
   ],
   "metadata": {}
  },
  {
   "cell_type": "code",
   "execution_count": 9,
   "source": [
    "a=3\r\n",
    "b=4\r\n",
    "c=(a**2+b**2)**0.5\r\n",
    "print(c)\r\n"
   ],
   "outputs": [
    {
     "output_type": "stream",
     "name": "stdout",
     "text": [
      "5.0\n"
     ]
    }
   ],
   "metadata": {}
  },
  {
   "cell_type": "code",
   "execution_count": 24,
   "source": [
    "c=7\r\n",
    "a=5\r\n",
    "b=(c**2-a**2)**0.5\r\n",
    "print(round(b,2))"
   ],
   "outputs": [
    {
     "output_type": "stream",
     "name": "stdout",
     "text": [
      "4.9\n"
     ]
    }
   ],
   "metadata": {}
  },
  {
   "cell_type": "markdown",
   "source": [
    "# 2. Classification accuracy "
   ],
   "metadata": {}
  },
  {
   "cell_type": "code",
   "execution_count": 26,
   "source": [
    "a=365\r\n",
    "b=300\r\n",
    "c=b/a*100\r\n",
    "print(f\"The correction percentage is {c}%\")"
   ],
   "outputs": [
    {
     "output_type": "stream",
     "name": "stdout",
     "text": [
      "The correction percentage is 82.1917808219178%\n"
     ]
    }
   ],
   "metadata": {}
  },
  {
   "cell_type": "markdown",
   "source": [
    "# 3. Classification accuracy "
   ],
   "metadata": {}
  },
  {
   "cell_type": "code",
   "execution_count": 6,
   "source": [
    "tp = 2\r\n",
    "tn = 985\r\n",
    "fp = 2\r\n",
    "fn = 11\r\n",
    "\r\n",
    "accuracy = ((tp+tn) / (tp+tn+fp+fn))*100\r\n",
    "\r\n",
    "print(f\"The accuracy is {accuracy}%\")"
   ],
   "outputs": [
    {
     "output_type": "stream",
     "name": "stdout",
     "text": [
      "The accuracy is 98.7%\n"
     ]
    }
   ],
   "metadata": {}
  },
  {
   "cell_type": "markdown",
   "source": [
    "# 4. Line"
   ],
   "metadata": {}
  },
  {
   "cell_type": "code",
   "execution_count": 3,
   "source": [
    "x1=4\r\n",
    "y1=4\r\n",
    "x2=0\r\n",
    "y2=1\r\n",
    "\r\n",
    "m=1 # when x=0, y=1\r\n",
    "\r\n",
    "k=(y2-y1)/(x2-x1)\r\n",
    "print(f\"Slope={k}\")\r\n",
    "print(f\"constant={m}\")\r\n",
    "\r\n",
    "# the full model will be : y=0.75x+1"
   ],
   "outputs": [
    {
     "output_type": "stream",
     "name": "stdout",
     "text": [
      "Slope=0.75\n",
      "constant=1\n"
     ]
    }
   ],
   "metadata": {}
  },
  {
   "cell_type": "markdown",
   "source": [
    "# 5. Euclidean distance "
   ],
   "metadata": {}
  },
  {
   "cell_type": "code",
   "execution_count": 4,
   "source": [
    "x1=3\r\n",
    "y1=5\r\n",
    "x2=-2\r\n",
    "y2=4\r\n",
    "\r\n",
    "distance=((x1-x2)**2+(y1-y2)**2)**0.5 # The same equation as angled triangle\r\n",
    "\r\n",
    "print(f\"The distance is {distance}\")"
   ],
   "outputs": [
    {
     "output_type": "stream",
     "name": "stdout",
     "text": [
      "The distance is 5.0990195135927845\n"
     ]
    }
   ],
   "metadata": {}
  },
  {
   "cell_type": "markdown",
   "source": [
    "# 6. Euclidean distance in 3D"
   ],
   "metadata": {}
  },
  {
   "cell_type": "code",
   "execution_count": 5,
   "source": [
    "x1=2\r\n",
    "y1=1\r\n",
    "z1=4\r\n",
    "x2=3\r\n",
    "y2=1\r\n",
    "z2=0\r\n",
    "\r\n",
    "distance=((x1-x2)**2+(y1-y2)**2+(z1-z2)**2)**0.5 \r\n",
    "\r\n",
    "print(f\"The distance is {distance}\")"
   ],
   "outputs": [
    {
     "output_type": "stream",
     "name": "stdout",
     "text": [
      "The distance is 4.123105625617661\n"
     ]
    }
   ],
   "metadata": {}
  }
 ],
 "metadata": {
  "orig_nbformat": 4,
  "language_info": {
   "name": "python",
   "version": "3.9.6",
   "mimetype": "text/x-python",
   "codemirror_mode": {
    "name": "ipython",
    "version": 3
   },
   "pygments_lexer": "ipython3",
   "nbconvert_exporter": "python",
   "file_extension": ".py"
  },
  "kernelspec": {
   "name": "python3",
   "display_name": "Python 3.9.6 64-bit"
  },
  "interpreter": {
   "hash": "ded964624c0da0089d9183eb236546880599c5ca771d587a021b71135ab6c6eb"
  }
 },
 "nbformat": 4,
 "nbformat_minor": 2
}
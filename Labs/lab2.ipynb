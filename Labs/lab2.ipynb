{
 "cells": [
  {
   "cell_type": "markdown",
   "source": [
    "# Data cleaning:"
   ],
   "metadata": {}
  },
  {
   "cell_type": "code",
   "execution_count": 2,
   "source": [
    "path1 = \"pichu.txt\"\r\n",
    "path2 = \"pikachu.txt\"\r\n",
    "path3 = \"test_points.txt\"\r\n",
    "\r\n",
    "with open (path1, \"r\") as p1, open (path2, \"r\") as p2:\r\n",
    "\r\n",
    "    pichu = [pichu.strip(\"\\n\" \"()\").split(\",\") for pichu in p1.readlines()]\r\n",
    "    pichu.pop(0)\r\n",
    "\r\n",
    "    pikachu = [pikachu.strip(\"\\n\" \"()\").split(\",\") for pikachu in p2.readlines()]\r\n",
    "    pikachu.pop(0)\r\n",
    "\r\n",
    "# Clean the datas, remove all the non-digital noises and make a list of x,y\r\n",
    "    \r\n",
    "    pichu_width = [float(pichu[0]) for pichu in pichu]\r\n",
    "    pichu_height = [float(pichu[1]) for pichu in pichu]\r\n",
    "\r\n",
    "    pikachu_width = [float(pikachu[0]) for pikachu in pikachu]\r\n",
    "    pikachu_height = [float(pikachu[1]) for pikachu in pikachu]\r\n",
    "\r\n",
    "# Remark and separate the width/height from Pichu and Pikachu; change datas from string to float\r\n",
    "\r\n",
    "with open (path3, \"r\") as t:\r\n",
    "\r\n",
    "    test = [test for test in t.readline().split(\"),\")]\r\n",
    "    test = [test2.strip(\"( )\") for test2 in test]\r\n",
    "    test = [test3.split(\",\") for test3 in test]\r\n",
    "\r\n",
    "# split first with readline(), then remove all the \"()\", finally split again with \",\"\r\n",
    "\r\n",
    "    test_width = [float(test[0]) for test in test]\r\n",
    "    test_height = [float(test[1]) for test in test]\r\n",
    "    \r\n",
    "# print(pichu)\r\n",
    "# print(pikachu)\r\n",
    "# print(pichu_width)\r\n",
    "# print(pichu_height)\r\n",
    "# print(pikachu_width)\r\n",
    "# print(pikachu_height)\r\n",
    "\r\n",
    "# print(test)\r\n",
    "# print(test_width)\r\n",
    "# print(test_height)\r\n"
   ],
   "outputs": [],
   "metadata": {}
  },
  {
   "cell_type": "markdown",
   "source": [
    "# Scatter plot:"
   ],
   "metadata": {}
  },
  {
   "cell_type": "code",
   "execution_count": 3,
   "source": [
    "import matplotlib.pyplot as plt\r\n",
    "\r\n",
    "pichu_plot = plt.scatter(pichu_width, pichu_height, color=\"pink\")\r\n",
    "# axel X : Pichu_width ; axel Y : Pichu_height\r\n",
    "\r\n",
    "pikachu_plot = plt.scatter(pikachu_width, pikachu_height, color=\"blue\")\r\n",
    "# axel X : Pikachu_width ; axel Y : Pikachu_height\r\n",
    "\r\n",
    "plt.xlabel(\"Width(cm)\")\r\n",
    "plt.ylabel(\"Height(cm)\")\r\n",
    "plt.title(\"Scatter plots for Pichu and Pikachu\")\r\n",
    "plt.legend(handles = (pichu_plot, pikachu_plot), labels  = ('Pichu', 'Pikachu'))\r\n",
    "plt.show()"
   ],
   "outputs": [
    {
     "output_type": "display_data",
     "data": {
      "image/png": "[encoded data removed]",
      "text/plain": [
       "<Figure size 432x288 with 1 Axes>"
      ]
     },
     "metadata": {
      "needs_background": "light"
     }
    }
   ],
   "metadata": {}
  },
  {
   "cell_type": "markdown",
   "source": [],
   "metadata": {}
  },
  {
   "cell_type": "code",
   "execution_count": 16,
   "source": [
    "def distance(t_x, t_y, p_x, p_y):\r\n",
    "    return ((t_x-p_x)**2 + (t_y-p_y)**2)**0.5\r\n",
    "\r\n",
    "t_x = test_width\r\n",
    "t_y = test_height\r\n",
    "p_x = pichu_width\r\n",
    "p_y = pichu_height\r\n",
    "\r\n",
    "a= [distance(test_width[0], test_height[0], p_x, p_y) for p_x, p_y in pokemon]\r\n",
    "print(a)"
   ],
   "outputs": [
    {
     "output_type": "error",
     "ename": "TypeError",
     "evalue": "unsupported operand type(s) for -: 'float' and 'str'",
     "traceback": [
      "\u001b[1;31m---------------------------------------------------------------------------\u001b[0m",
      "\u001b[1;31mTypeError\u001b[0m                                 Traceback (most recent call last)",
      "\u001b[1;32m~\\AppData\\Local\\Temp/ipykernel_22332/2202538322.py\u001b[0m in \u001b[0;36m<module>\u001b[1;34m\u001b[0m\n\u001b[0;32m      7\u001b[0m \u001b[0mp_y\u001b[0m \u001b[1;33m=\u001b[0m \u001b[0mpichu_height\u001b[0m\u001b[1;33m\u001b[0m\u001b[1;33m\u001b[0m\u001b[0m\n\u001b[0;32m      8\u001b[0m \u001b[1;33m\u001b[0m\u001b[0m\n\u001b[1;32m----> 9\u001b[1;33m \u001b[0ma\u001b[0m\u001b[1;33m=\u001b[0m \u001b[1;33m[\u001b[0m\u001b[0mdistance\u001b[0m\u001b[1;33m(\u001b[0m\u001b[0mtest_width\u001b[0m\u001b[1;33m[\u001b[0m\u001b[1;36m0\u001b[0m\u001b[1;33m]\u001b[0m\u001b[1;33m,\u001b[0m \u001b[0mtest_height\u001b[0m\u001b[1;33m[\u001b[0m\u001b[1;36m0\u001b[0m\u001b[1;33m]\u001b[0m\u001b[1;33m,\u001b[0m \u001b[0mp_x\u001b[0m\u001b[1;33m,\u001b[0m \u001b[0mp_y\u001b[0m\u001b[1;33m)\u001b[0m \u001b[1;32mfor\u001b[0m \u001b[0mp_x\u001b[0m\u001b[1;33m,\u001b[0m \u001b[0mp_y\u001b[0m \u001b[1;32min\u001b[0m \u001b[0mpichu\u001b[0m\u001b[1;33m]\u001b[0m\u001b[1;33m\u001b[0m\u001b[1;33m\u001b[0m\u001b[0m\n\u001b[0m\u001b[0;32m     10\u001b[0m \u001b[0mprint\u001b[0m\u001b[1;33m(\u001b[0m\u001b[0ma\u001b[0m\u001b[1;33m)\u001b[0m\u001b[1;33m\u001b[0m\u001b[1;33m\u001b[0m\u001b[0m\n",
      "\u001b[1;32m~\\AppData\\Local\\Temp/ipykernel_22332/2202538322.py\u001b[0m in \u001b[0;36m<listcomp>\u001b[1;34m(.0)\u001b[0m\n\u001b[0;32m      7\u001b[0m \u001b[0mp_y\u001b[0m \u001b[1;33m=\u001b[0m \u001b[0mpichu_height\u001b[0m\u001b[1;33m\u001b[0m\u001b[1;33m\u001b[0m\u001b[0m\n\u001b[0;32m      8\u001b[0m \u001b[1;33m\u001b[0m\u001b[0m\n\u001b[1;32m----> 9\u001b[1;33m \u001b[0ma\u001b[0m\u001b[1;33m=\u001b[0m \u001b[1;33m[\u001b[0m\u001b[0mdistance\u001b[0m\u001b[1;33m(\u001b[0m\u001b[0mtest_width\u001b[0m\u001b[1;33m[\u001b[0m\u001b[1;36m0\u001b[0m\u001b[1;33m]\u001b[0m\u001b[1;33m,\u001b[0m \u001b[0mtest_height\u001b[0m\u001b[1;33m[\u001b[0m\u001b[1;36m0\u001b[0m\u001b[1;33m]\u001b[0m\u001b[1;33m,\u001b[0m \u001b[0mp_x\u001b[0m\u001b[1;33m,\u001b[0m \u001b[0mp_y\u001b[0m\u001b[1;33m)\u001b[0m \u001b[1;32mfor\u001b[0m \u001b[0mp_x\u001b[0m\u001b[1;33m,\u001b[0m \u001b[0mp_y\u001b[0m \u001b[1;32min\u001b[0m \u001b[0mpichu\u001b[0m\u001b[1;33m]\u001b[0m\u001b[1;33m\u001b[0m\u001b[1;33m\u001b[0m\u001b[0m\n\u001b[0m\u001b[0;32m     10\u001b[0m \u001b[0mprint\u001b[0m\u001b[1;33m(\u001b[0m\u001b[0ma\u001b[0m\u001b[1;33m)\u001b[0m\u001b[1;33m\u001b[0m\u001b[1;33m\u001b[0m\u001b[0m\n",
      "\u001b[1;32m~\\AppData\\Local\\Temp/ipykernel_22332/2202538322.py\u001b[0m in \u001b[0;36mdistance\u001b[1;34m(t_x, t_y, p_x, p_y)\u001b[0m\n\u001b[0;32m      1\u001b[0m \u001b[1;32mdef\u001b[0m \u001b[0mdistance\u001b[0m\u001b[1;33m(\u001b[0m\u001b[0mt_x\u001b[0m\u001b[1;33m,\u001b[0m \u001b[0mt_y\u001b[0m\u001b[1;33m,\u001b[0m \u001b[0mp_x\u001b[0m\u001b[1;33m,\u001b[0m \u001b[0mp_y\u001b[0m\u001b[1;33m)\u001b[0m\u001b[1;33m:\u001b[0m\u001b[1;33m\u001b[0m\u001b[1;33m\u001b[0m\u001b[0m\n\u001b[1;32m----> 2\u001b[1;33m     \u001b[1;32mreturn\u001b[0m \u001b[1;33m(\u001b[0m\u001b[1;33m(\u001b[0m\u001b[0mt_x\u001b[0m\u001b[1;33m-\u001b[0m\u001b[0mp_x\u001b[0m\u001b[1;33m)\u001b[0m\u001b[1;33m**\u001b[0m\u001b[1;36m2\u001b[0m \u001b[1;33m+\u001b[0m \u001b[1;33m(\u001b[0m\u001b[0mt_y\u001b[0m\u001b[1;33m-\u001b[0m\u001b[0mp_y\u001b[0m\u001b[1;33m)\u001b[0m\u001b[1;33m**\u001b[0m\u001b[1;36m2\u001b[0m\u001b[1;33m)\u001b[0m\u001b[1;33m**\u001b[0m\u001b[1;36m0.5\u001b[0m\u001b[1;33m\u001b[0m\u001b[1;33m\u001b[0m\u001b[0m\n\u001b[0m\u001b[0;32m      3\u001b[0m \u001b[1;33m\u001b[0m\u001b[0m\n\u001b[0;32m      4\u001b[0m \u001b[0mt_x\u001b[0m \u001b[1;33m=\u001b[0m \u001b[0mtest_width\u001b[0m\u001b[1;33m\u001b[0m\u001b[1;33m\u001b[0m\u001b[0m\n\u001b[0;32m      5\u001b[0m \u001b[0mt_y\u001b[0m \u001b[1;33m=\u001b[0m \u001b[0mtest_height\u001b[0m\u001b[1;33m\u001b[0m\u001b[1;33m\u001b[0m\u001b[0m\n",
      "\u001b[1;31mTypeError\u001b[0m: unsupported operand type(s) for -: 'float' and 'str'"
     ]
    }
   ],
   "metadata": {}
  },
  {
   "cell_type": "markdown",
   "source": [
    "# Users input and error handling:"
   ],
   "metadata": {}
  },
  {
   "cell_type": "code",
   "execution_count": 486,
   "source": [
    "while True:\r\n",
    "\r\n",
    "    width = input(\"Entre a width value of your pokemon\")\r\n",
    "    height = input(\"Entre a height value of your pokemon\")\r\n",
    "\r\n",
    "    try: \r\n",
    "\r\n",
    "        if width.isalpha() or height.isalpha():\r\n",
    "            raise ValueError(\"Values must be numerical, please\") \r\n",
    "# Error hint for non-numerical inputs\r\n",
    "\r\n",
    "        width = float(width)\r\n",
    "        height = float(height)\r\n",
    "\r\n",
    "        if width <= 0 or width >= 30:\r\n",
    "            raise ValueError(\"Width values must between 0 and 30, please\")\r\n",
    "        \r\n",
    "        if height <= 0 or height >= 50:\r\n",
    "            raise ValueError(\"Height values must between 0 and 50, please\")\r\n",
    "# Error hint for Out-of-range inputs\r\n",
    "\r\n",
    "        break\r\n",
    "\r\n",
    "    except ValueError as err:\r\n",
    "        print(err)"
   ],
   "outputs": [
    {
     "output_type": "stream",
     "name": "stdout",
     "text": [
      "Width values must between 0 and 30\n"
     ]
    }
   ],
   "metadata": {}
  }
 ],
 "metadata": {
  "orig_nbformat": 4,
  "language_info": {
   "name": "python",
   "version": "3.9.6",
   "mimetype": "text/x-python",
   "codemirror_mode": {
    "name": "ipython",
    "version": 3
   },
   "pygments_lexer": "ipython3",
   "nbconvert_exporter": "python",
   "file_extension": ".py"
  },
  "kernelspec": {
   "name": "python3",
   "display_name": "Python 3.9.6 64-bit ('python-programming-Kun-Han-lwkoREgH': virtualenv)"
  },
  "interpreter": {
   "hash": "7565875fc860841d1ac58932c3399b2f9de3300a7321d66f878423c047ece803"
  }
 },
 "nbformat": 4,
 "nbformat_minor": 2
}
{
 "cells": [
  {
   "cell_type": "markdown",
   "source": [
    "# Lab 2 Pichu or Pikachu"
   ],
   "metadata": {}
  },
  {
   "cell_type": "markdown",
   "source": [
    "## Load and clean the Pichu/Pikachu datas"
   ],
   "metadata": {}
  },
  {
   "cell_type": "code",
   "execution_count": 156,
   "source": [
    "path1 = \"pichu.txt\"\r\n",
    "path2 = \"pikachu.txt\"\r\n",
    "\r\n",
    "\r\n",
    "with open (path1, \"r\") as p1, open (path2, \"r\") as p2:\r\n",
    "\r\n",
    "    pichu = [pichu.strip(\"\\n\" \"()\").split(\",\") for pichu in p1.readlines()]\r\n",
    "    pichu.pop(0)\r\n",
    "\r\n",
    "    pikachu = [pikachu.strip(\"\\n\" \"()\").split(\",\") for pikachu in p2.readlines()]\r\n",
    "    pikachu.pop(0)\r\n",
    "\r\n",
    "# Clean the datas, remove all the non-digital noises and make a list of x,y\r\n",
    "\r\n",
    "    \r\n",
    "    pichu_width = [float(each_pichu[0]) for each_pichu in pichu]\r\n",
    "    pichu_height = [float(each_pichu[1]) for each_pichu in pichu]\r\n",
    "\r\n",
    "    pichu = [[float(each_pichu[0]), float(each_pichu[1]), \"Pichu\"] for each_pichu in pichu]\r\n",
    "\r\n",
    "\r\n",
    "    pikachu_width = [float(each_pikachu[0]) for each_pikachu in pikachu]\r\n",
    "    pikachu_height = [float(each_pikachu[1]) for each_pikachu in pikachu]\r\n",
    "\r\n",
    "    pikachu = [[float(each_pikachu[0]), float(each_pikachu[1]), \"Pikachu\"] for each_pikachu in pikachu]\r\n",
    "\r\n",
    "# Remark and separate the width/height from Pichu and Pikachu (for scatter-plot); \r\n",
    "# change datas from string to float\r\n",
    "# Add a string of pokemon type in list[2] for further use\r\n",
    "\r\n",
    "    pokemon = pichu + pikachu\r\n",
    "    \r\n",
    "# print(pichu)\r\n",
    "# print(pikachu)\r\n",
    "# print(pichu_width)\r\n",
    "# print(pichu_height)\r\n",
    "# print(pikachu_width)\r\n",
    "# print(pikachu_height)\r\n",
    "# print(pokemon)\r\n",
    "\r\n",
    "print(len(pichu))\r\n",
    "print(len(pikachu))\r\n",
    "print(len(pokemon))"
   ],
   "outputs": [
    {
     "output_type": "stream",
     "name": "stdout",
     "text": [
      "50\n",
      "50\n",
      "100\n"
     ]
    }
   ],
   "metadata": {}
  },
  {
   "cell_type": "markdown",
   "source": [
    "## Load and clean the test data"
   ],
   "metadata": {}
  },
  {
   "cell_type": "code",
   "execution_count": 157,
   "source": [
    "path3 = \"test_points.txt\"\r\n",
    "\r\n",
    "with open (path3, \"r\") as t:\r\n",
    "\r\n",
    "    test_points = [test for test in t.readline().split(\"),\")]\r\n",
    "    test_points = [test2.strip(\"( )\") for test2 in test_points]\r\n",
    "    test_points = [test3.split(\",\") for test3 in test_points]\r\n",
    "\r\n",
    "# split first with readline(), then remove all the \"()\", finally split again with \",\"\r\n",
    "\r\n",
    "    test_width = [float(test[0]) for test in test_points]\r\n",
    "    test_height = [float(test[1]) for test in test_points]\r\n",
    "    test_points = [[float(test[0]), float(test[1])] for test in test_points]\r\n",
    "\r\n",
    "print(test_points)\r\n",
    "# print(test_width)\r\n",
    "# print(test_height)"
   ],
   "outputs": [
    {
     "output_type": "stream",
     "name": "stdout",
     "text": [
      "[[25.0, 35.0], [15.0, 14.0], [26.0, 30.0], [22.0, 45.0]]\n"
     ]
    }
   ],
   "metadata": {}
  },
  {
   "cell_type": "markdown",
   "source": [
    "## Scatter plot:"
   ],
   "metadata": {}
  },
  {
   "cell_type": "code",
   "execution_count": 158,
   "source": [
    "import matplotlib.pyplot as plt\r\n",
    "\r\n",
    "pichu_plot = plt.scatter(pichu_width, pichu_height, color=\"green\")\r\n",
    "# axel X : Pichu_width ; axel Y : Pichu_height\r\n",
    "\r\n",
    "pikachu_plot = plt.scatter(pikachu_width, pikachu_height, color=\"blue\")\r\n",
    "# axel X : Pikachu_width ; axel Y : Pikachu_height\r\n",
    "\r\n",
    "test_plot = plt.scatter(test_width, test_height, color=\"red\")\r\n",
    "\r\n",
    "plt.xlabel(\"Width(cm)\")\r\n",
    "plt.ylabel(\"Height(cm)\")\r\n",
    "plt.title(\"Scatter plots for Pichu and Pikachu\")\r\n",
    "plt.legend(handles = (pichu_plot, pikachu_plot, test_plot), labels  = ('Pichu', 'Pikachu', \"Test-points\"))\r\n",
    "plt.show()"
   ],
   "outputs": [
    {
     "output_type": "display_data",
     "data": {
      "image/png": "[encoded data removed]",
      "text/plain": [
       "<Figure size 432x288 with 1 Axes>"
      ]
     },
     "metadata": {
      "needs_background": "light"
     }
    }
   ],
   "metadata": {}
  },
  {
   "cell_type": "markdown",
   "source": [
    "## Define a distance function"
   ],
   "metadata": {}
  },
  {
   "cell_type": "code",
   "execution_count": 159,
   "source": [
    "def distance(x1, y1, x2, y2, pokemontype):\r\n",
    "    return ((x1 - x2)**2 + (y1 - y2)**2)**0.5, pokemontype\r\n",
    "\r\n",
    "# Added a fifth element in def to show the \"Pokemontype\" followed by a distance value "
   ],
   "outputs": [],
   "metadata": {}
  },
  {
   "cell_type": "markdown",
   "source": [
    "## Calculate, compare the distances between test and pokemons (1st-closest-point-test)"
   ],
   "metadata": {}
  },
  {
   "cell_type": "code",
   "execution_count": 172,
   "source": [
    "def test_function(test_point, pokemon): \r\n",
    "\r\n",
    "# Create a function for testing\r\n",
    "\r\n",
    "        distance_list = []\r\n",
    "\r\n",
    "# Create a empty list for distances\r\n",
    "\r\n",
    "        for each_point in pokemon:\r\n",
    "\r\n",
    "            distance_test = distance(test_point[0], test_point[1], each_point[0], each_point[1], each_point[2])\r\n",
    "\r\n",
    "# calculate the distances with loop for each point in Pokemon, and pokemontype followed\r\n",
    "\r\n",
    "            distance_list.append(distance_test)\r\n",
    "\r\n",
    "# Append to the list\r\n",
    "\r\n",
    "            distance_list.sort() \r\n",
    "\r\n",
    "# Sort from minst distance to largest\r\n",
    "\r\n",
    "        if distance_list [0][1] == \"Pichu\":\r\n",
    "            print(f\"Sample with (width, height): ({test_point[0]}, {test_point[1]}) classified as Pichu.\")\r\n",
    "        else:\r\n",
    "            print(f\"Sample with (width, height): ({test_point[0]}, {test_point[1]}) classified as Pikachu.\")\r\n",
    "        \r\n",
    "        return distance_list [0][1]\r\n",
    "        \r\n",
    "# Determine the Pokemontype by checking with list[0][1], which \"Pichu\" or \"Pikachu\" included. Return the type(str).\r\n",
    "\r\n",
    "result = [test_function(each_test_point, pokemon) for each_test_point in test_points]\r\n",
    "\r\n",
    "# Loop and calculate for each test point and return the results\r\n"
   ],
   "outputs": [
    {
     "output_type": "stream",
     "name": "stdout",
     "text": [
      "Sample with (width, height): (25.0, 35.0) classified as Pikachu.\n",
      "Sample with (width, height): (15.0, 14.0) classified as Pichu.\n",
      "Sample with (width, height): (26.0, 30.0) classified as Pichu.\n",
      "Sample with (width, height): (22.0, 45.0) classified as Pikachu.\n"
     ]
    }
   ],
   "metadata": {}
  },
  {
   "cell_type": "markdown",
   "source": [
    "## Users input with error handling:"
   ],
   "metadata": {}
  },
  {
   "cell_type": "code",
   "execution_count": 161,
   "source": [
    "while True:\r\n",
    "\r\n",
    "    width = input(\"Entre a width value of your pokemon\")\r\n",
    "    height = input(\"Entre a height value of your pokemon\")\r\n",
    "\r\n",
    "    try: \r\n",
    "\r\n",
    "        if width.isalpha() or height.isalpha():\r\n",
    "            raise ValueError(\"Values must be numerical, please\") \r\n",
    "\r\n",
    "# Error hint for non-numerical inputs\r\n",
    "\r\n",
    "        width = float(width)\r\n",
    "        height = float(height)\r\n",
    "\r\n",
    "        if width <= 0 or width >= 40:\r\n",
    "            raise ValueError(\"Width values must between 0 and 40, please\")\r\n",
    "        \r\n",
    "        if height <= 0 or height >= 60:\r\n",
    "            raise ValueError(\"Height values must between 0 and 60, please\")\r\n",
    "\r\n",
    "# Error hint for Out-of-range inputs (because the observation points are between 0-30 and 0-50, a large value may not belongs to any of the pokemons)\r\n",
    "        \r\n",
    "        user_points = [width, height]\r\n",
    "        test_function(user_points, pokemon)\r\n",
    "\r\n",
    "# insert the function\r\n",
    "\r\n",
    "        break\r\n",
    "        \r\n",
    "    except ValueError as err:\r\n",
    "        print(err)"
   ],
   "outputs": [
    {
     "output_type": "stream",
     "name": "stdout",
     "text": [
      "Width values must between 0 and 40, please\n",
      "Height values must between 0 and 60, please\n",
      "Values must be numerical, please\n",
      "Sample with (width, height): (23.0, 23.0) classified as Pichu.\n"
     ]
    }
   ],
   "metadata": {}
  },
  {
   "cell_type": "markdown",
   "source": [
    "## Create and execute a function for \"five-closest-points\" method"
   ],
   "metadata": {}
  },
  {
   "cell_type": "code",
   "execution_count": 180,
   "source": [
    "def five_closest_points_function(test_point, pokemon):\r\n",
    "\r\n",
    "    distance_list = []\r\n",
    "    \r\n",
    "    for each_point in pokemon:\r\n",
    "\r\n",
    "        distance_test = distance(test_point[0], test_point[1], each_point[0], each_point[1], each_point[2])\r\n",
    "\r\n",
    "        distance_list.append(distance_test)\r\n",
    "\r\n",
    "        distance_list.sort() \r\n",
    "\r\n",
    "    five_points_list = [distance_list[0], distance_list[1], distance_list[2], distance_list[3], distance_list[4]]\r\n",
    "    five_points_list = str(five_points_list)\r\n",
    "\r\n",
    "# List the first five-closest-points and change the list to strings\r\n",
    "\r\n",
    "    pichu_count = five_points_list.count('Pichu')\r\n",
    "    pikachu_count = five_points_list.count('Pikachu')\r\n",
    "\r\n",
    "# Count the number of Pichus and Pikachus\r\n",
    "    \r\n",
    "    if pichu_count > pikachu_count:\r\n",
    "         \r\n",
    "        print(f\"Sample with (width, height): ({test_point[0]}, {test_point[1]}) classified as Pichu.\")\r\n",
    "        return \"Pichu\"\r\n",
    "\r\n",
    "    else:\r\n",
    "        print(f\"Sample with (width, height): ({test_point[0]}, {test_point[1]}) classified as Pikachu.\")\r\n",
    "        return \"Pikachu\"\r\n",
    "        \r\n",
    "# The function returns the Pokemontype in strings -> (\"Pichu\"/\"Pikachu\")\r\n",
    "\r\n",
    "result = [five_closest_points_function(each_test_point, pokemon) for each_test_point in test_points]\r\n",
    "\r\n",
    "# for loop and calculte with 4 test points"
   ],
   "outputs": [
    {
     "output_type": "stream",
     "name": "stdout",
     "text": [
      "Sample with (width, height): (25.0, 35.0) classified as Pikachu.\n",
      "Sample with (width, height): (15.0, 14.0) classified as Pichu.\n",
      "Sample with (width, height): (26.0, 30.0) classified as Pichu.\n",
      "Sample with (width, height): (22.0, 45.0) classified as Pikachu.\n"
     ]
    }
   ],
   "metadata": {}
  },
  {
   "cell_type": "markdown",
   "source": [
    "___"
   ],
   "metadata": {}
  },
  {
   "cell_type": "markdown",
   "source": [
    "# Bonusuppgifter"
   ],
   "metadata": {}
  },
  {
   "cell_type": "markdown",
   "source": [
    "## Data separate for training and test datas."
   ],
   "metadata": {}
  },
  {
   "cell_type": "code",
   "execution_count": 183,
   "source": [
    "import random as rnd\r\n",
    "\r\n",
    "random_pichu = rnd.sample(pichu, 45)        # 45 random data from Pichu\r\n",
    "random_pikachu = rnd.sample(pikachu, 45)    # 45 random data from Pikachu\r\n",
    "\r\n",
    "training_data = random_pichu + random_pikachu  \r\n",
    "\r\n",
    "test_pichu= [each_pichu for each_pichu in pichu if each_pichu not in random_pichu]  # The rest of Pichu(5st)\r\n",
    "test_pikachu =  [each_pikachu for each_pikachu in pikachu if each_pikachu not in random_pikachu] # The rest of Pikachu(5st)\r\n",
    "\r\n",
    "test_data = test_pichu + test_pikachu\r\n",
    "\r\n",
    "print(len(training_data))\r\n",
    "print(len(test_data))\r\n"
   ],
   "outputs": [
    {
     "output_type": "stream",
     "name": "stdout",
     "text": [
      "90\n",
      "10\n"
     ]
    }
   ],
   "metadata": {}
  },
  {
   "cell_type": "markdown",
   "source": [
    "## Calculte accuracy with 1st-closest point"
   ],
   "metadata": {}
  },
  {
   "cell_type": "code",
   "execution_count": 186,
   "source": [
    "TN_TP = 0\r\n",
    "\r\n",
    "for each_test_data in test_data:\r\n",
    "    \r\n",
    "    if test_function(each_test_data, training_data) == each_test_data[2]: \r\n",
    "\r\n",
    "        TN_TP+=1\r\n",
    "    \r\n",
    "# Similar codes with test_function but adjust \"Pichu\" to \"each_test_data[2]\" \r\n",
    "# which means that, if the closest point's Pokemontype (or predictor) equal to the each_test_data's real Pokemontype, TN/TP will be added.\r\n",
    "\r\n",
    "print(TN_TP)\r\n",
    "print(f\"Accuracy(1st_point_method) = {TN_TP/len(test_data)*100} %\")"
   ],
   "outputs": [
    {
     "output_type": "stream",
     "name": "stdout",
     "text": [
      "Sample with (width, height): (20.11541438766307, 28.701809671168824) classified as Pichu.\n",
      "Sample with (width, height): (22.137436541638763, 26.71138648198097) classified as Pichu.\n",
      "Sample with (width, height): (17.692756360901015, 28.95631901060664) classified as Pichu.\n",
      "Sample with (width, height): (16.862327090888243, 28.816192865065368) classified as Pichu.\n",
      "Sample with (width, height): (15.808011435277834, 34.96121380240097) classified as Pichu.\n",
      "Sample with (width, height): (29.445791130252964, 37.20217384451559) classified as Pikachu.\n",
      "Sample with (width, height): (28.951534072137846, 43.59635400253747) classified as Pikachu.\n",
      "Sample with (width, height): (27.3435177435667, 39.726710263117944) classified as Pikachu.\n",
      "Sample with (width, height): (27.97998635233415, 39.67024668036675) classified as Pikachu.\n",
      "Sample with (width, height): (23.703388537184775, 39.21881639834404) classified as Pikachu.\n",
      "10\n",
      "Accuracy(1st_point_method) = 100.0 %\n"
     ]
    }
   ],
   "metadata": {}
  },
  {
   "cell_type": "markdown",
   "source": [
    "## Calculte accuracy with 5st-closest point"
   ],
   "metadata": {}
  },
  {
   "cell_type": "code",
   "execution_count": 185,
   "source": [
    "TN_TP = 0\r\n",
    "\r\n",
    "for each_test_data in test_data:\r\n",
    "    \r\n",
    "    if five_closest_points_function(each_test_data, training_data) == each_test_data[2]:\r\n",
    "\r\n",
    "        TN_TP+=1\r\n",
    "\r\n",
    "print(TN_TP)\r\n",
    "print(f\"Accuracy(5st_closest_point_method) = {TN_TP/len(test_data)*100} %\")"
   ],
   "outputs": [
    {
     "output_type": "stream",
     "name": "stdout",
     "text": [
      "Sample with (width, height): (20.11541438766307, 28.701809671168824) classified as Pichu.\n",
      "Sample with (width, height): (22.137436541638763, 26.71138648198097) classified as Pichu.\n",
      "Sample with (width, height): (17.692756360901015, 28.95631901060664) classified as Pichu.\n",
      "Sample with (width, height): (16.862327090888243, 28.816192865065368) classified as Pichu.\n",
      "Sample with (width, height): (15.808011435277834, 34.96121380240097) classified as Pichu.\n",
      "Sample with (width, height): (29.445791130252964, 37.20217384451559) classified as Pikachu.\n",
      "Sample with (width, height): (28.951534072137846, 43.59635400253747) classified as Pikachu.\n",
      "Sample with (width, height): (27.3435177435667, 39.726710263117944) classified as Pikachu.\n",
      "Sample with (width, height): (27.97998635233415, 39.67024668036675) classified as Pikachu.\n",
      "Sample with (width, height): (23.703388537184775, 39.21881639834404) classified as Pikachu.\n",
      "10\n",
      "Accuracy(5st_closest_point_method) = 100.0 %\n"
     ]
    }
   ],
   "metadata": {}
  },
  {
   "cell_type": "markdown",
   "source": [
    "## A statable accuracy can due to two reasons:\r\n",
    "\r\n",
    "- The size of observations is too small.\r\n",
    "- There are significant differences between the two datasets(Pichu/Pikachu)."
   ],
   "metadata": {}
  }
 ],
 "metadata": {
  "orig_nbformat": 4,
  "language_info": {
   "name": "python",
   "version": "3.9.6",
   "mimetype": "text/x-python",
   "codemirror_mode": {
    "name": "ipython",
    "version": 3
   },
   "pygments_lexer": "ipython3",
   "nbconvert_exporter": "python",
   "file_extension": ".py"
  },
  "kernelspec": {
   "name": "python3",
   "display_name": "Python 3.9.6 64-bit ('python-programming-Kun-Han-lwkoREgH': virtualenv)"
  },
  "interpreter": {
   "hash": "7565875fc860841d1ac58932c3399b2f9de3300a7321d66f878423c047ece803"
  }
 },
 "nbformat": 4,
 "nbformat_minor": 2
}
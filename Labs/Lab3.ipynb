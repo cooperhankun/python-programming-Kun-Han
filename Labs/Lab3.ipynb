{
 "cells": [
  {
   "cell_type": "code",
   "execution_count": 33,
   "source": [
    "from math import pi\r\n",
    "import matplotlib.pyplot as plt\r\n",
    "\r\n",
    "class Circle:\r\n",
    "\r\n",
    "    def __init__(self, x, y, radius):\r\n",
    "        self.x, self.y, self.radius = x, y, radius\r\n",
    "        self.center = (x, y)\r\n",
    "\r\n",
    "    def area(self):\r\n",
    "        return pi*self.radius**2\r\n",
    "\r\n",
    "    def circumference(self):\r\n",
    "        return 2*pi*self.radius\r\n",
    "\r\n",
    "    def __repr__(self) -> str:\r\n",
    "        return f\"Circle of radius {self.radius} at a central coordinates ({self.x}, {self.y}) has area {self.area()}.\"\r\n",
    "\r\n",
    "    def __eq__(self, other) -> bool:\r\n",
    "        if self.area() == other.area():\r\n",
    "            return True\r\n",
    "        else:\r\n",
    "            return False\r\n",
    "    \r\n",
    "    def distance(self, x1, y1):\r\n",
    "        return (((x1-self.x)**2)+((y1-self.y)**2))**0.5\r\n",
    "        # calculate distance between circles center and a point\r\n",
    "\r\n",
    "    def is_inside(self, x1, y1):\r\n",
    "        if self.distance(x1, y1) <= self.radius:\r\n",
    "            return True\r\n",
    "        else:\r\n",
    "            return False\r\n",
    "\r\n",
    "    def translate(self, new_center):\r\n",
    "        self.center = new_center\r\n",
    "        \r\n",
    "\r\n",
    "\r\n",
    "cirkel1 = Circle(x=0,y=0, radius=1)\r\n",
    "cirkel2 = Circle(x=1,y=1, radius=1)\r\n",
    "\r\n",
    "print(cirkel1.is_inside(0.5, 0.5))\r\n",
    "\r\n",
    "#print(cirkel1.area())\r\n",
    "#print(cirkel2.area())\r\n",
    "#print(cirkel2.__repr__())\r\n",
    "#print(cirkel2.center)\r\n",
    "# print(cirkel2.move(new_center=(2,3)))\r\n",
    "#print(cirkel1 == cirkel2)\r\n",
    "\r\n",
    "\r\n",
    "class Rectangle:\r\n",
    "\r\n",
    "    def __init__(self, x, y, side1, side2):\r\n",
    "        self.x, self.y, self.side1, self.side2 = x, y, side1, side2\r\n",
    "        self.center = (x, y)\r\n",
    "\r\n",
    "    def area(self):\r\n",
    "        return self.side1*self.side2\r\n",
    "\r\n",
    "    def circumference(self):\r\n",
    "        return 2*(self.side1 + self.side2)\r\n",
    "\r\n",
    "    def __eq__(self, other) -> bool:\r\n",
    "        if self.area() == other.area():\r\n",
    "            return True\r\n",
    "        else:\r\n",
    "            return False\r\n",
    "\r\n",
    "#r1 = Rectangle(4, 6, 1, 2)\r\n",
    "#r2 = Rectangle(4, 6, 3, 1)\r\n",
    "#print(r1.circumference())\r\n",
    "#print(r1 == r2)\r\n"
   ],
   "outputs": [
    {
     "output_type": "stream",
     "name": "stdout",
     "text": [
      "True\n"
     ]
    }
   ],
   "metadata": {}
  },
  {
   "cell_type": "code",
   "execution_count": 25,
   "source": [
    "cirkel1 = Circle(x=0,y=0, radius=1)\r\n",
    "cirkel2 = Circle(x=1,y=1, radius=1)\r\n",
    "rektangel = Rectangle(x=0,y=0,side1=1, side2=1)\r\n",
    "\r\n",
    "print(cirkel1==cirkel2) \r\n",
    "print(cirkel2==rektangel)\r\n"
   ],
   "outputs": [
    {
     "output_type": "stream",
     "name": "stdout",
     "text": [
      "True\n",
      "False\n"
     ]
    }
   ],
   "metadata": {}
  }
 ],
 "metadata": {
  "orig_nbformat": 4,
  "language_info": {
   "name": "python",
   "version": "3.9.6",
   "mimetype": "text/x-python",
   "codemirror_mode": {
    "name": "ipython",
    "version": 3
   },
   "pygments_lexer": "ipython3",
   "nbconvert_exporter": "python",
   "file_extension": ".py"
  },
  "kernelspec": {
   "name": "python3",
   "display_name": "Python 3.9.6 64-bit ('python-programming-Kun-Han-lwkoREgH': virtualenv)"
  },
  "interpreter": {
   "hash": "7565875fc860841d1ac58932c3399b2f9de3300a7321d66f878423c047ece803"
  }
 },
 "nbformat": 4,
 "nbformat_minor": 2
}
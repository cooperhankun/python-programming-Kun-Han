{
 "cells": [
  {
   "cell_type": "code",
   "execution_count": 6,
   "source": [
    "from geometry_shapes import Circle\r\n",
    "from geometry_shapes import Rectangle\r\n",
    "\r\n",
    "# try for cirkel:\r\n",
    "\r\n",
    "cirkel1 = Circle(x=0,y=0, radius=1) # enhetscirkel\r\n",
    "cirkel2 = Circle(x=1,y=1, radius=1)\r\n",
    "\r\n",
    "rektangel1 = Rectangle(x=0,y=0,side1=1, side2=1)\r\n",
    "rektangel2 = Rectangle(x=3,y=3,side1=2, side2=1)\r\n",
    "\r\n",
    "print(cirkel1==cirkel2) # True\r\n",
    "print(cirkel2==rektangel) # False\r\n",
    "print(cirkel1.is_inside(0.5, 0.5)) # True\r\n",
    "cirkel1.translate(5,5)\r\n",
    "print(cirkel1.is_inside(0.5, 0.5)) # False\r\n",
    "\r\n",
    "\r\n",
    "print(\"\")\r\n",
    "# try for rektangel:\r\n",
    "\r\n",
    "rektangel1 = Rectangle(x=0,y=0,side1=1, side2=1)\r\n",
    "rektangel2 = Rectangle(x=3,y=3,side1=2, side2=1)\r\n",
    "\r\n",
    "print(rektangel1==rektangel2) \r\n",
    "print(rektangel1.is_inside(0.4, 0.3))\r\n",
    "print(rektangel2.is_inside(20, 11)) \r\n",
    "rektangel1.translate(5,5)\r\n",
    "print(rektangel1.is_inside(0.5, 0.5))\r\n",
    "\r\n",
    "# try for error:\r\n",
    "\r\n",
    "cirkel1.translate(\"TRE\",5) # ge ValueError med lämplig kommentar\r\n"
   ],
   "outputs": [
    {
     "output_type": "stream",
     "name": "stdout",
     "text": [
      "True\n"
     ]
    },
    {
     "output_type": "error",
     "ename": "NameError",
     "evalue": "name 'rektangel' is not defined",
     "traceback": [
      "\u001b[1;31m---------------------------------------------------------------------------\u001b[0m",
      "\u001b[1;31mNameError\u001b[0m                                 Traceback (most recent call last)",
      "\u001b[1;32m~\\AppData\\Local\\Temp/ipykernel_7668/3749162280.py\u001b[0m in \u001b[0;36m<module>\u001b[1;34m\u001b[0m\n\u001b[0;32m     11\u001b[0m \u001b[1;33m\u001b[0m\u001b[0m\n\u001b[0;32m     12\u001b[0m \u001b[0mprint\u001b[0m\u001b[1;33m(\u001b[0m\u001b[0mcirkel1\u001b[0m\u001b[1;33m==\u001b[0m\u001b[0mcirkel2\u001b[0m\u001b[1;33m)\u001b[0m \u001b[1;31m# True\u001b[0m\u001b[1;33m\u001b[0m\u001b[1;33m\u001b[0m\u001b[0m\n\u001b[1;32m---> 13\u001b[1;33m \u001b[0mprint\u001b[0m\u001b[1;33m(\u001b[0m\u001b[0mcirkel2\u001b[0m\u001b[1;33m==\u001b[0m\u001b[0mrektangel\u001b[0m\u001b[1;33m)\u001b[0m \u001b[1;31m# False\u001b[0m\u001b[1;33m\u001b[0m\u001b[1;33m\u001b[0m\u001b[0m\n\u001b[0m\u001b[0;32m     14\u001b[0m \u001b[0mprint\u001b[0m\u001b[1;33m(\u001b[0m\u001b[0mcirkel1\u001b[0m\u001b[1;33m.\u001b[0m\u001b[0mis_inside\u001b[0m\u001b[1;33m(\u001b[0m\u001b[1;36m0.5\u001b[0m\u001b[1;33m,\u001b[0m \u001b[1;36m0.5\u001b[0m\u001b[1;33m)\u001b[0m\u001b[1;33m)\u001b[0m \u001b[1;31m# True\u001b[0m\u001b[1;33m\u001b[0m\u001b[1;33m\u001b[0m\u001b[0m\n\u001b[0;32m     15\u001b[0m \u001b[0mcirkel1\u001b[0m\u001b[1;33m.\u001b[0m\u001b[0mtranslate\u001b[0m\u001b[1;33m(\u001b[0m\u001b[1;36m5\u001b[0m\u001b[1;33m,\u001b[0m\u001b[1;36m5\u001b[0m\u001b[1;33m)\u001b[0m\u001b[1;33m\u001b[0m\u001b[1;33m\u001b[0m\u001b[0m\n",
      "\u001b[1;31mNameError\u001b[0m: name 'rektangel' is not defined"
     ]
    }
   ],
   "metadata": {}
  }
 ],
 "metadata": {
  "orig_nbformat": 4,
  "language_info": {
   "name": "python",
   "version": "3.9.6",
   "mimetype": "text/x-python",
   "codemirror_mode": {
    "name": "ipython",
    "version": 3
   },
   "pygments_lexer": "ipython3",
   "nbconvert_exporter": "python",
   "file_extension": ".py"
  },
  "kernelspec": {
   "name": "python3",
   "display_name": "Python 3.9.6 64-bit ('python-programming-Kun-Han-lwkoREgH': virtualenv)"
  },
  "interpreter": {
   "hash": "7565875fc860841d1ac58932c3399b2f9de3300a7321d66f878423c047ece803"
  }
 },
 "nbformat": 4,
 "nbformat_minor": 2
}
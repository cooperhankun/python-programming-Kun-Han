{
 "cells": [
  {
   "cell_type": "code",
   "execution_count": 27,
   "source": [
    "class Geometry_2D:\r\n",
    "\r\n",
    "    def __init__(self, x, y) -> None:\r\n",
    "        self.x = x\r\n",
    "        self.y = y\r\n",
    "        self.center = (x, y)\r\n",
    "    \r\n",
    "    @property\r\n",
    "    def x(self):\r\n",
    "        return self._x\r\n",
    "\r\n",
    "    @x.setter\r\n",
    "    def x(self, value):\r\n",
    "        if not isinstance(value, (int, float)):\r\n",
    "            raise TypeError(\"x must be int/float\")\r\n",
    "        self._x = value\r\n",
    "\r\n",
    "    @property\r\n",
    "    def y(self):\r\n",
    "        return self._y\r\n",
    "\r\n",
    "    @x.setter\r\n",
    "    def y(self, value):\r\n",
    "        if not isinstance(value, (int, float)):\r\n",
    "            raise TypeError(\"y must be int/float\")\r\n",
    "        self._y = value\r\n",
    "\r\n",
    "    def __repr__(self) -> str:\r\n",
    "        return f\"Geometry_2D with a central coordinates ({self._x}, {self._y}).\"\r\n"
   ],
   "outputs": [
    {
     "output_type": "stream",
     "name": "stdout",
     "text": [
      "Geometry_2D with a central coordinates (-100, -8).\n"
     ]
    }
   ],
   "metadata": {}
  },
  {
   "cell_type": "code",
   "execution_count": 19,
   "source": [
    "from math import pi\r\n",
    "\r\n",
    "class Circle(Geometry_2D):\r\n",
    "\r\n",
    "    def __init__(self, x, y, radius) -> None:\r\n",
    "        super().__init__(x, y)\r\n",
    "        self.radius = radius\r\n",
    "        self.center = (x, y)\r\n",
    "\r\n",
    "        \r\n",
    "# Center location of the circle (x,y)\r\n",
    "\r\n",
    "    def area(self):\r\n",
    "        return pi*self.radius**2\r\n",
    "\r\n",
    "# calculate the area\r\n",
    "\r\n",
    "    def circumference(self):\r\n",
    "        return 2*pi*self.radius\r\n",
    "\r\n",
    "# Calculte the circumference\r\n",
    "\r\n",
    "    def __repr__(self) -> str:\r\n",
    "        return f\"Circle of radius {self.radius} at a central coordinates ({self.x}, {self.y}) has area {self.area()}.\"\r\n",
    "\r\n",
    "# Represent the shape with radius, central coordinates and area\r\n",
    "\r\n",
    "    def __eq__(self, other) -> bool:\r\n",
    "        if self.area() == other.area():\r\n",
    "            return True\r\n",
    "        else:\r\n",
    "            return False\r\n",
    "\r\n",
    "# Overloading for equal with calcute the area\r\n",
    "    \r\n",
    "    def distance(self, x1, y1) -> float:\r\n",
    "        return (((x1-self.x)**2)+((y1-self.y)**2))**0.5\r\n",
    "\r\n",
    "# Calculate distance between circles center and a point\r\n",
    "\r\n",
    "    def is_inside(self, x1, y1) -> float:\r\n",
    "        if self.distance(x1, y1) <= self.radius:\r\n",
    "            return True\r\n",
    "        else:\r\n",
    "            return False\r\n",
    "\r\n",
    "# With distance smaller or equal than radius, we return True(inside), otherwise False(outside)\r\n",
    "\r\n",
    "    def translate(self, x1, y1) -> float:\r\n",
    "        self.x = x1\r\n",
    "        self.y = y1\r\n",
    "\r\n",
    "        \r\n",
    "\r\n",
    "cirkel1 = Circle(x=0,y=0, radius=1) # enhetscirkel\r\n",
    "cirkel2 = Circle(x=1,y=1, radius=1)\r\n",
    "#rektangel = Rectangle(x=0,y=0,side1=1, side2=1)\r\n",
    "print(cirkel1==cirkel2) # True\r\n",
    "#print(cirkel2==rektangel) # False\r\n",
    "print(cirkel1.is_inside(0.5, 0.5)) # True\r\n",
    "cirkel1.translate(5,5)\r\n",
    "print(cirkel1.is_inside(0.5, 0.5)) # False\r\n",
    "\r\n"
   ],
   "outputs": [
    {
     "output_type": "stream",
     "name": "stdout",
     "text": [
      "True\n",
      "True\n",
      "False\n"
     ]
    }
   ],
   "metadata": {}
  },
  {
   "cell_type": "code",
   "execution_count": 20,
   "source": [
    "class Rectangle(Geometry_2D):\r\n",
    "\r\n",
    "    def __init__(self, x, y, side1, side2)-> float:\r\n",
    "        super().__init__(x, y)\r\n",
    "        self.side1, self.side2 = side1, side2\r\n",
    "        self.center = (x, y)\r\n",
    "\r\n",
    "    def area(self):\r\n",
    "        return self.side1*self.side2\r\n",
    "\r\n",
    "    def circumference(self):\r\n",
    "        return 2*(self.side1 + self.side2)\r\n",
    "\r\n",
    "    def __eq__(self, other) -> bool:\r\n",
    "        if self.area() == other.area():\r\n",
    "            return True\r\n",
    "        else:\r\n",
    "            return False\r\n",
    "\r\n",
    "#r1 = Rectangle(4, 6, 1, 2)\r\n",
    "#r2 = Rectangle(4, 6, 3, 1)\r\n",
    "#print(r1.circumference())\r\n",
    "#print(r1 == r2)"
   ],
   "outputs": [],
   "metadata": {}
  },
  {
   "cell_type": "code",
   "execution_count": 3,
   "source": [
    "from geometry_shapes import Circle\r\n",
    "from geometry_shapes import Rectangle\r\n",
    "\r\n",
    "\r\n",
    "cirkel1 = Circle(x=0,y=0, radius=1) # enhetscirkel\r\n",
    "cirkel2 = Circle(x=1,y=1, radius=1)\r\n",
    "rektangel = Rectangle(x=0,y=0,side1=1, side2=1)\r\n",
    "print(cirkel1==cirkel2) # True\r\n",
    "print(cirkel2==rektangel) # False\r\n",
    "print(cirkel1.is_inside(0.5, 0.5)) # True\r\n",
    "cirkel1.translate(5,5)\r\n",
    "print(cirkel1.is_inside(0.5, 0.5)) # False\r\n",
    "cirkel1.translate(\"TRE\",5) # ge ValueError med lämplig kommentar\r\n"
   ],
   "outputs": [
    {
     "output_type": "stream",
     "name": "stdout",
     "text": [
      "True\n",
      "False\n",
      "True\n",
      "False\n",
      "True\n",
      "False\n",
      "True\n",
      "False\n"
     ]
    }
   ],
   "metadata": {}
  }
 ],
 "metadata": {
  "orig_nbformat": 4,
  "language_info": {
   "name": "python",
   "version": "3.9.6",
   "mimetype": "text/x-python",
   "codemirror_mode": {
    "name": "ipython",
    "version": 3
   },
   "pygments_lexer": "ipython3",
   "nbconvert_exporter": "python",
   "file_extension": ".py"
  },
  "kernelspec": {
   "name": "python3",
   "display_name": "Python 3.9.6 64-bit ('python-programming-Kun-Han-lwkoREgH': virtualenv)"
  },
  "interpreter": {
   "hash": "7565875fc860841d1ac58932c3399b2f9de3300a7321d66f878423c047ece803"
  }
 },
 "nbformat": 4,
 "nbformat_minor": 2
}